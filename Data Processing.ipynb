{
 "cells": [
  {
   "cell_type": "markdown",
   "metadata": {},
   "source": [
    "# Global Terrorism Attacks - Predicting The Responsible Group"
   ]
  },
  {
   "cell_type": "markdown",
   "metadata": {},
   "source": [
    "**Table of Contents**\n",
    "<div id=\"toc\"></div>"
   ]
  },
  {
   "cell_type": "markdown",
   "metadata": {},
   "source": [
    "## Load data"
   ]
  },
  {
   "cell_type": "code",
   "execution_count": 18,
   "metadata": {
    "scrolled": true
   },
   "outputs": [
    {
     "data": {
      "text/html": [
       "<div>\n",
       "<style>\n",
       "    .dataframe thead tr:only-child th {\n",
       "        text-align: right;\n",
       "    }\n",
       "\n",
       "    .dataframe thead th {\n",
       "        text-align: left;\n",
       "    }\n",
       "\n",
       "    .dataframe tbody tr th {\n",
       "        vertical-align: top;\n",
       "    }\n",
       "</style>\n",
       "<table border=\"1\" class=\"dataframe\">\n",
       "  <thead>\n",
       "    <tr style=\"text-align: right;\">\n",
       "      <th></th>\n",
       "      <th>Unnamed: 0</th>\n",
       "      <th>eventid</th>\n",
       "      <th>iyear</th>\n",
       "      <th>imonth</th>\n",
       "      <th>iday</th>\n",
       "      <th>approxdate</th>\n",
       "      <th>extended</th>\n",
       "      <th>resolution</th>\n",
       "      <th>country</th>\n",
       "      <th>country_txt</th>\n",
       "      <th>...</th>\n",
       "      <th>addnotes</th>\n",
       "      <th>scite1</th>\n",
       "      <th>scite2</th>\n",
       "      <th>scite3</th>\n",
       "      <th>dbsource</th>\n",
       "      <th>INT_LOG</th>\n",
       "      <th>INT_IDEO</th>\n",
       "      <th>INT_MISC</th>\n",
       "      <th>INT_ANY</th>\n",
       "      <th>related</th>\n",
       "    </tr>\n",
       "  </thead>\n",
       "  <tbody>\n",
       "    <tr>\n",
       "      <th>170347</th>\n",
       "      <td>170347</td>\n",
       "      <td>201612310043</td>\n",
       "      <td>2016</td>\n",
       "      <td>12</td>\n",
       "      <td>31</td>\n",
       "      <td>NaN</td>\n",
       "      <td>1</td>\n",
       "      <td>NaN</td>\n",
       "      <td>229</td>\n",
       "      <td>Democratic Republic of the Congo</td>\n",
       "      <td>...</td>\n",
       "      <td>NaN</td>\n",
       "      <td>\"DRC Armed Forces Dislodge Ugandan LRA Rebels ...</td>\n",
       "      <td>NaN</td>\n",
       "      <td>NaN</td>\n",
       "      <td>START Primary Collection</td>\n",
       "      <td>1</td>\n",
       "      <td>1</td>\n",
       "      <td>0</td>\n",
       "      <td>1</td>\n",
       "      <td>NaN</td>\n",
       "    </tr>\n",
       "    <tr>\n",
       "      <th>170348</th>\n",
       "      <td>170348</td>\n",
       "      <td>201612310044</td>\n",
       "      <td>2016</td>\n",
       "      <td>12</td>\n",
       "      <td>31</td>\n",
       "      <td>NaN</td>\n",
       "      <td>0</td>\n",
       "      <td>NaN</td>\n",
       "      <td>130</td>\n",
       "      <td>Mexico</td>\n",
       "      <td>...</td>\n",
       "      <td>There is doubt that this incident meets terror...</td>\n",
       "      <td>\"Gunmen shoot at home of Mexican indigenous ri...</td>\n",
       "      <td>\"â Gunmen shoot at home of Mexican indigenou...</td>\n",
       "      <td>NaN</td>\n",
       "      <td>START Primary Collection</td>\n",
       "      <td>-9</td>\n",
       "      <td>-9</td>\n",
       "      <td>0</td>\n",
       "      <td>-9</td>\n",
       "      <td>NaN</td>\n",
       "    </tr>\n",
       "    <tr>\n",
       "      <th>170349</th>\n",
       "      <td>170349</td>\n",
       "      <td>201701270001</td>\n",
       "      <td>2016</td>\n",
       "      <td>12</td>\n",
       "      <td>30</td>\n",
       "      <td>NaN</td>\n",
       "      <td>0</td>\n",
       "      <td>NaN</td>\n",
       "      <td>195</td>\n",
       "      <td>Sudan</td>\n",
       "      <td>...</td>\n",
       "      <td>There is doubt that this incident meets terror...</td>\n",
       "      <td>\"Rebels To Blame For Nierteti Killing: Central...</td>\n",
       "      <td>\"Security deteriorates in West Darfur alongsid...</td>\n",
       "      <td>NaN</td>\n",
       "      <td>START Primary Collection</td>\n",
       "      <td>0</td>\n",
       "      <td>0</td>\n",
       "      <td>0</td>\n",
       "      <td>0</td>\n",
       "      <td>NaN</td>\n",
       "    </tr>\n",
       "  </tbody>\n",
       "</table>\n",
       "<p>3 rows × 136 columns</p>\n",
       "</div>"
      ],
      "text/plain": [
       "        Unnamed: 0       eventid  iyear  imonth  iday approxdate  extended  \\\n",
       "170347      170347  201612310043   2016      12    31        NaN         1   \n",
       "170348      170348  201612310044   2016      12    31        NaN         0   \n",
       "170349      170349  201701270001   2016      12    30        NaN         0   \n",
       "\n",
       "       resolution  country                       country_txt   ...    \\\n",
       "170347        NaN      229  Democratic Republic of the Congo   ...     \n",
       "170348        NaN      130                            Mexico   ...     \n",
       "170349        NaN      195                             Sudan   ...     \n",
       "\n",
       "                                                 addnotes  \\\n",
       "170347                                                NaN   \n",
       "170348  There is doubt that this incident meets terror...   \n",
       "170349  There is doubt that this incident meets terror...   \n",
       "\n",
       "                                                   scite1  \\\n",
       "170347  \"DRC Armed Forces Dislodge Ugandan LRA Rebels ...   \n",
       "170348  \"Gunmen shoot at home of Mexican indigenous ri...   \n",
       "170349  \"Rebels To Blame For Nierteti Killing: Central...   \n",
       "\n",
       "                                                   scite2 scite3  \\\n",
       "170347                                                NaN    NaN   \n",
       "170348  \"â Gunmen shoot at home of Mexican indigenou...    NaN   \n",
       "170349  \"Security deteriorates in West Darfur alongsid...    NaN   \n",
       "\n",
       "                        dbsource  INT_LOG  INT_IDEO  INT_MISC INT_ANY related  \n",
       "170347  START Primary Collection        1         1         0       1     NaN  \n",
       "170348  START Primary Collection       -9        -9         0      -9     NaN  \n",
       "170349  START Primary Collection        0         0         0       0     NaN  \n",
       "\n",
       "[3 rows x 136 columns]"
      ]
     },
     "execution_count": 18,
     "metadata": {},
     "output_type": "execute_result"
    }
   ],
   "source": [
    "%matplotlib inline\n",
    "\n",
    "import pandas as pd\n",
    "import csv\n",
    "from sklearn import preprocessing\n",
    "import os.path\n",
    "\n",
    "gtdConvertedFilename = 'gtd_converted.csv'\n",
    "\n",
    "if not os.path.isfile(gtdConvertedFilename):\n",
    "    %run CreateCSVFile.py\n",
    "\n",
    "gtd = pd.read_csv(gtdConvertedFilename, encoding='latin1', low_memory=False)\n",
    "gtd.tail(3)"
   ]
  },
  {
   "cell_type": "markdown",
   "metadata": {},
   "source": [
    "## Preprocessing"
   ]
  },
  {
   "cell_type": "markdown",
   "metadata": {},
   "source": [
    "### Filter Groups"
   ]
  },
  {
   "cell_type": "code",
   "execution_count": 4,
   "metadata": {},
   "outputs": [
    {
     "data": {
      "text/plain": [
       "(55568, 136)"
      ]
     },
     "execution_count": 4,
     "metadata": {},
     "output_type": "execute_result"
    }
   ],
   "source": [
    "from collections import Counter\n",
    "\n",
    "group_count = Counter(gtd['gname'])\n",
    "# Remove groups with 3 attacks or less\n",
    "filtered_groups = [group for group, counter in group_count.items() if counter > 3]\n",
    "# Remove 'Unknown'\n",
    "filtered_groups.remove('Unknown')\n",
    "\n",
    "gtd = gtd[gtd['gname'].isin(filtered_groups)]\n",
    "\n",
    "gtd.shape"
   ]
  },
  {
   "cell_type": "markdown",
   "metadata": {},
   "source": [
    "### Define Features"
   ]
  },
  {
   "cell_type": "code",
   "execution_count": 5,
   "metadata": {},
   "outputs": [
    {
     "data": {
      "text/html": [
       "<div>\n",
       "<style>\n",
       "    .dataframe thead tr:only-child th {\n",
       "        text-align: right;\n",
       "    }\n",
       "\n",
       "    .dataframe thead th {\n",
       "        text-align: left;\n",
       "    }\n",
       "\n",
       "    .dataframe tbody tr th {\n",
       "        vertical-align: top;\n",
       "    }\n",
       "</style>\n",
       "<table border=\"1\" class=\"dataframe\">\n",
       "  <thead>\n",
       "    <tr style=\"text-align: right;\">\n",
       "      <th></th>\n",
       "      <th>gname</th>\n",
       "      <th>iyear</th>\n",
       "      <th>country</th>\n",
       "      <th>crit1</th>\n",
       "      <th>crit2</th>\n",
       "      <th>crit3</th>\n",
       "      <th>attacktype1</th>\n",
       "      <th>targtype1</th>\n",
       "      <th>targsubtype1</th>\n",
       "      <th>weaptype1</th>\n",
       "      <th>weapsubtype1</th>\n",
       "      <th>ransom</th>\n",
       "    </tr>\n",
       "  </thead>\n",
       "  <tbody>\n",
       "    <tr>\n",
       "      <th>99964</th>\n",
       "      <td>Jharkhand Liberation Tigers (JLT)</td>\n",
       "      <td>2011</td>\n",
       "      <td>92</td>\n",
       "      <td>1</td>\n",
       "      <td>0</td>\n",
       "      <td>1</td>\n",
       "      <td>6</td>\n",
       "      <td>17</td>\n",
       "      <td>NaN</td>\n",
       "      <td>9.0</td>\n",
       "      <td>23.0</td>\n",
       "      <td>-9.0</td>\n",
       "    </tr>\n",
       "    <tr>\n",
       "      <th>99965</th>\n",
       "      <td>Tehrik-i-Taliban Pakistan (TTP)</td>\n",
       "      <td>2011</td>\n",
       "      <td>153</td>\n",
       "      <td>1</td>\n",
       "      <td>1</td>\n",
       "      <td>1</td>\n",
       "      <td>9</td>\n",
       "      <td>14</td>\n",
       "      <td>67.0</td>\n",
       "      <td>13.0</td>\n",
       "      <td>NaN</td>\n",
       "      <td>NaN</td>\n",
       "    </tr>\n",
       "    <tr>\n",
       "      <th>99966</th>\n",
       "      <td>Al-Shabaab</td>\n",
       "      <td>2011</td>\n",
       "      <td>182</td>\n",
       "      <td>1</td>\n",
       "      <td>1</td>\n",
       "      <td>1</td>\n",
       "      <td>2</td>\n",
       "      <td>14</td>\n",
       "      <td>67.0</td>\n",
       "      <td>5.0</td>\n",
       "      <td>5.0</td>\n",
       "      <td>NaN</td>\n",
       "    </tr>\n",
       "  </tbody>\n",
       "</table>\n",
       "</div>"
      ],
      "text/plain": [
       "                                   gname  iyear  country  crit1  crit2  crit3  \\\n",
       "99964  Jharkhand Liberation Tigers (JLT)   2011       92      1      0      1   \n",
       "99965    Tehrik-i-Taliban Pakistan (TTP)   2011      153      1      1      1   \n",
       "99966                         Al-Shabaab   2011      182      1      1      1   \n",
       "\n",
       "       attacktype1  targtype1  targsubtype1  weaptype1  weapsubtype1  ransom  \n",
       "99964            6         17           NaN        9.0          23.0    -9.0  \n",
       "99965            9         14          67.0       13.0           NaN     NaN  \n",
       "99966            2         14          67.0        5.0           5.0     NaN  "
      ]
     },
     "execution_count": 5,
     "metadata": {},
     "output_type": "execute_result"
    }
   ],
   "source": [
    "#columns_to_keep = ['gname', 'iyear', 'country', 'region', 'crit1', 'crit2', 'crit3', 'attacktype1', 'targtype1', 'targsubtype1','natlty1', 'weaptype1','weapsubtype1', 'nperps', 'nkill', 'nwound', 'ransom']\n",
    "columns_to_keep = ['gname', 'iyear', 'country', 'crit1', 'crit2', 'crit3', 'attacktype1', 'targtype1', 'targsubtype1',\n",
    "'weaptype1', 'weapsubtype1', 'ransom']\n",
    "# columns_to_keep = ['gname', 'iyear', 'country', 'region', 'attacktype1', 'weaptype1']\n",
    "gtd = gtd[columns_to_keep]\n",
    "gtd.tail(3)"
   ]
  },
  {
   "cell_type": "markdown",
   "metadata": {},
   "source": [
    "### Transform Target"
   ]
  },
  {
   "cell_type": "code",
   "execution_count": 6,
   "metadata": {
    "collapsed": true
   },
   "outputs": [],
   "source": [
    "number = preprocessing.LabelEncoder()\n",
    "gtd['gname'] = number.fit_transform(gtd.gname) #number.inverse_transform()\n",
    "gtd = gtd.rename(columns={'gname': 'groupId'})"
   ]
  },
  {
   "cell_type": "markdown",
   "metadata": {},
   "source": [
    "### Fill NaNs"
   ]
  },
  {
   "cell_type": "code",
   "execution_count": 7,
   "metadata": {},
   "outputs": [
    {
     "data": {
      "text/html": [
       "<div>\n",
       "<style>\n",
       "    .dataframe thead tr:only-child th {\n",
       "        text-align: right;\n",
       "    }\n",
       "\n",
       "    .dataframe thead th {\n",
       "        text-align: left;\n",
       "    }\n",
       "\n",
       "    .dataframe tbody tr th {\n",
       "        vertical-align: top;\n",
       "    }\n",
       "</style>\n",
       "<table border=\"1\" class=\"dataframe\">\n",
       "  <thead>\n",
       "    <tr style=\"text-align: right;\">\n",
       "      <th></th>\n",
       "      <th>groupId</th>\n",
       "      <th>iyear</th>\n",
       "      <th>country</th>\n",
       "      <th>crit1</th>\n",
       "      <th>crit2</th>\n",
       "      <th>crit3</th>\n",
       "      <th>attacktype1</th>\n",
       "      <th>targtype1</th>\n",
       "      <th>targsubtype1</th>\n",
       "      <th>weaptype1</th>\n",
       "      <th>weapsubtype1</th>\n",
       "      <th>ransom</th>\n",
       "    </tr>\n",
       "  </thead>\n",
       "  <tbody>\n",
       "    <tr>\n",
       "      <th>99964</th>\n",
       "      <td>379</td>\n",
       "      <td>2011</td>\n",
       "      <td>92</td>\n",
       "      <td>1</td>\n",
       "      <td>0</td>\n",
       "      <td>1</td>\n",
       "      <td>6</td>\n",
       "      <td>17</td>\n",
       "      <td>0.0</td>\n",
       "      <td>9.0</td>\n",
       "      <td>23.0</td>\n",
       "      <td>-9.0</td>\n",
       "    </tr>\n",
       "    <tr>\n",
       "      <th>99965</th>\n",
       "      <td>758</td>\n",
       "      <td>2011</td>\n",
       "      <td>153</td>\n",
       "      <td>1</td>\n",
       "      <td>1</td>\n",
       "      <td>1</td>\n",
       "      <td>9</td>\n",
       "      <td>14</td>\n",
       "      <td>67.0</td>\n",
       "      <td>13.0</td>\n",
       "      <td>0.0</td>\n",
       "      <td>0.0</td>\n",
       "    </tr>\n",
       "    <tr>\n",
       "      <th>99966</th>\n",
       "      <td>43</td>\n",
       "      <td>2011</td>\n",
       "      <td>182</td>\n",
       "      <td>1</td>\n",
       "      <td>1</td>\n",
       "      <td>1</td>\n",
       "      <td>2</td>\n",
       "      <td>14</td>\n",
       "      <td>67.0</td>\n",
       "      <td>5.0</td>\n",
       "      <td>5.0</td>\n",
       "      <td>0.0</td>\n",
       "    </tr>\n",
       "  </tbody>\n",
       "</table>\n",
       "</div>"
      ],
      "text/plain": [
       "       groupId  iyear  country  crit1  crit2  crit3  attacktype1  targtype1  \\\n",
       "99964      379   2011       92      1      0      1            6         17   \n",
       "99965      758   2011      153      1      1      1            9         14   \n",
       "99966       43   2011      182      1      1      1            2         14   \n",
       "\n",
       "       targsubtype1  weaptype1  weapsubtype1  ransom  \n",
       "99964           0.0        9.0          23.0    -9.0  \n",
       "99965          67.0       13.0           0.0     0.0  \n",
       "99966          67.0        5.0           5.0     0.0  "
      ]
     },
     "execution_count": 7,
     "metadata": {},
     "output_type": "execute_result"
    }
   ],
   "source": [
    "gtd=gtd.fillna(0) #TODO: 999 or 0?\n",
    "\n",
    "gtd.tail(3)"
   ]
  },
  {
   "cell_type": "code",
   "execution_count": 8,
   "metadata": {
    "collapsed": true
   },
   "outputs": [],
   "source": [
    "gtd.to_csv('gtd_processed_11features.csv', encoding='utf-8', index=False)"
   ]
  }
 ],
 "metadata": {
  "kernelspec": {
   "display_name": "Python 2",
   "language": "python",
   "name": "python2"
  },
  "language_info": {
   "codemirror_mode": {
    "name": "ipython",
    "version": 2
   },
   "file_extension": ".py",
   "mimetype": "text/x-python",
   "name": "python",
   "nbconvert_exporter": "python",
   "pygments_lexer": "ipython2",
   "version": "2.7.13"
  }
 },
 "nbformat": 4,
 "nbformat_minor": 2
}
