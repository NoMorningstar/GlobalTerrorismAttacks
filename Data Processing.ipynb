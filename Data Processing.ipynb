{
 "cells": [
  {
   "cell_type": "markdown",
   "metadata": {},
   "source": [
    "# Global Terrorism Attacks - Predicting The Responsible Group"
   ]
  },
  {
   "cell_type": "markdown",
   "metadata": {},
   "source": [
    "**Table of Contents**\n",
    "<div id=\"toc\"></div>"
   ]
  },
  {
   "cell_type": "markdown",
   "metadata": {},
   "source": [
    "## Load data"
   ]
  },
  {
   "cell_type": "code",
   "execution_count": 15,
   "metadata": {
    "scrolled": true
   },
   "outputs": [
    {
     "data": {
      "text/html": [
       "<div>\n",
       "<style>\n",
       "    .dataframe thead tr:only-child th {\n",
       "        text-align: right;\n",
       "    }\n",
       "\n",
       "    .dataframe thead th {\n",
       "        text-align: left;\n",
       "    }\n",
       "\n",
       "    .dataframe tbody tr th {\n",
       "        vertical-align: top;\n",
       "    }\n",
       "</style>\n",
       "<table border=\"1\" class=\"dataframe\">\n",
       "  <thead>\n",
       "    <tr style=\"text-align: right;\">\n",
       "      <th></th>\n",
       "      <th>Unnamed: 0</th>\n",
       "      <th>eventid</th>\n",
       "      <th>iyear</th>\n",
       "      <th>imonth</th>\n",
       "      <th>iday</th>\n",
       "      <th>approxdate</th>\n",
       "      <th>extended</th>\n",
       "      <th>resolution</th>\n",
       "      <th>country</th>\n",
       "      <th>country_txt</th>\n",
       "      <th>...</th>\n",
       "      <th>addnotes</th>\n",
       "      <th>scite1</th>\n",
       "      <th>scite2</th>\n",
       "      <th>scite3</th>\n",
       "      <th>dbsource</th>\n",
       "      <th>INT_LOG</th>\n",
       "      <th>INT_IDEO</th>\n",
       "      <th>INT_MISC</th>\n",
       "      <th>INT_ANY</th>\n",
       "      <th>related</th>\n",
       "    </tr>\n",
       "  </thead>\n",
       "  <tbody>\n",
       "    <tr>\n",
       "      <th>170347</th>\n",
       "      <td>170347</td>\n",
       "      <td>201612310043</td>\n",
       "      <td>2016</td>\n",
       "      <td>12</td>\n",
       "      <td>31</td>\n",
       "      <td>NaN</td>\n",
       "      <td>1</td>\n",
       "      <td>NaN</td>\n",
       "      <td>229</td>\n",
       "      <td>Democratic Republic of the Congo</td>\n",
       "      <td>...</td>\n",
       "      <td>NaN</td>\n",
       "      <td>\"DRC Armed Forces Dislodge Ugandan LRA Rebels ...</td>\n",
       "      <td>NaN</td>\n",
       "      <td>NaN</td>\n",
       "      <td>START Primary Collection</td>\n",
       "      <td>1</td>\n",
       "      <td>1</td>\n",
       "      <td>0</td>\n",
       "      <td>1</td>\n",
       "      <td>NaN</td>\n",
       "    </tr>\n",
       "    <tr>\n",
       "      <th>170348</th>\n",
       "      <td>170348</td>\n",
       "      <td>201612310044</td>\n",
       "      <td>2016</td>\n",
       "      <td>12</td>\n",
       "      <td>31</td>\n",
       "      <td>NaN</td>\n",
       "      <td>0</td>\n",
       "      <td>NaN</td>\n",
       "      <td>130</td>\n",
       "      <td>Mexico</td>\n",
       "      <td>...</td>\n",
       "      <td>There is doubt that this incident meets terror...</td>\n",
       "      <td>\"Gunmen shoot at home of Mexican indigenous ri...</td>\n",
       "      <td>\"â Gunmen shoot at home of Mexican indigenou...</td>\n",
       "      <td>NaN</td>\n",
       "      <td>START Primary Collection</td>\n",
       "      <td>-9</td>\n",
       "      <td>-9</td>\n",
       "      <td>0</td>\n",
       "      <td>-9</td>\n",
       "      <td>NaN</td>\n",
       "    </tr>\n",
       "    <tr>\n",
       "      <th>170349</th>\n",
       "      <td>170349</td>\n",
       "      <td>201701270001</td>\n",
       "      <td>2016</td>\n",
       "      <td>12</td>\n",
       "      <td>30</td>\n",
       "      <td>NaN</td>\n",
       "      <td>0</td>\n",
       "      <td>NaN</td>\n",
       "      <td>195</td>\n",
       "      <td>Sudan</td>\n",
       "      <td>...</td>\n",
       "      <td>There is doubt that this incident meets terror...</td>\n",
       "      <td>\"Rebels To Blame For Nierteti Killing: Central...</td>\n",
       "      <td>\"Security deteriorates in West Darfur alongsid...</td>\n",
       "      <td>NaN</td>\n",
       "      <td>START Primary Collection</td>\n",
       "      <td>0</td>\n",
       "      <td>0</td>\n",
       "      <td>0</td>\n",
       "      <td>0</td>\n",
       "      <td>NaN</td>\n",
       "    </tr>\n",
       "  </tbody>\n",
       "</table>\n",
       "<p>3 rows × 136 columns</p>\n",
       "</div>"
      ],
      "text/plain": [
       "        Unnamed: 0       eventid  iyear  imonth  iday approxdate  extended  \\\n",
       "170347      170347  201612310043   2016      12    31        NaN         1   \n",
       "170348      170348  201612310044   2016      12    31        NaN         0   \n",
       "170349      170349  201701270001   2016      12    30        NaN         0   \n",
       "\n",
       "       resolution  country                       country_txt   ...    \\\n",
       "170347        NaN      229  Democratic Republic of the Congo   ...     \n",
       "170348        NaN      130                            Mexico   ...     \n",
       "170349        NaN      195                             Sudan   ...     \n",
       "\n",
       "                                                 addnotes  \\\n",
       "170347                                                NaN   \n",
       "170348  There is doubt that this incident meets terror...   \n",
       "170349  There is doubt that this incident meets terror...   \n",
       "\n",
       "                                                   scite1  \\\n",
       "170347  \"DRC Armed Forces Dislodge Ugandan LRA Rebels ...   \n",
       "170348  \"Gunmen shoot at home of Mexican indigenous ri...   \n",
       "170349  \"Rebels To Blame For Nierteti Killing: Central...   \n",
       "\n",
       "                                                   scite2 scite3  \\\n",
       "170347                                                NaN    NaN   \n",
       "170348  \"â Gunmen shoot at home of Mexican indigenou...    NaN   \n",
       "170349  \"Security deteriorates in West Darfur alongsid...    NaN   \n",
       "\n",
       "                        dbsource  INT_LOG  INT_IDEO  INT_MISC INT_ANY related  \n",
       "170347  START Primary Collection        1         1         0       1     NaN  \n",
       "170348  START Primary Collection       -9        -9         0      -9     NaN  \n",
       "170349  START Primary Collection        0         0         0       0     NaN  \n",
       "\n",
       "[3 rows x 136 columns]"
      ]
     },
     "execution_count": 15,
     "metadata": {},
     "output_type": "execute_result"
    }
   ],
   "source": [
    "%matplotlib inline\n",
    "\n",
    "import ConfigParser\n",
    "config = ConfigParser.ConfigParser()\n",
    "config.read('config.ini')\n",
    "gtdConvertedFilename = 'gtd_converted.csv'\n",
    "\n",
    "import pandas as pd\n",
    "import csv\n",
    "from sklearn import preprocessing\n",
    "import os.path\n",
    "\n",
    "if not os.path.isfile(gtdConvertedFilename):\n",
    "    %run CreateCSVFile.py\n",
    "\n",
    "gtd = pd.read_csv(gtdConvertedFilename, encoding='latin1', low_memory=False)\n",
    "gtd.tail(3)"
   ]
  },
  {
   "cell_type": "markdown",
   "metadata": {},
   "source": [
    "## Preprocessing"
   ]
  },
  {
   "cell_type": "markdown",
   "metadata": {},
   "source": [
    "### Filter Groups"
   ]
  },
  {
   "cell_type": "code",
   "execution_count": 16,
   "metadata": {},
   "outputs": [
    {
     "data": {
      "text/plain": [
       "(88657, 136)"
      ]
     },
     "execution_count": 16,
     "metadata": {},
     "output_type": "execute_result"
    }
   ],
   "source": [
    "from collections import Counter\n",
    "\n",
    "group_count = Counter(gtd['gname'])\n",
    "# Remove groups with 3 attacks or less\n",
    "filtered_groups = [group for group, counter in group_count.items() if counter > 3]\n",
    "# Remove 'Unknown'\n",
    "filtered_groups.remove('Unknown')\n",
    "\n",
    "gtd = gtd[gtd['gname'].isin(filtered_groups)]\n",
    "\n",
    "gtd.shape"
   ]
  },
  {
   "cell_type": "markdown",
   "metadata": {},
   "source": [
    "### Define Features"
   ]
  },
  {
   "cell_type": "code",
   "execution_count": 17,
   "metadata": {},
   "outputs": [
    {
     "data": {
      "text/html": [
       "<div>\n",
       "<style>\n",
       "    .dataframe thead tr:only-child th {\n",
       "        text-align: right;\n",
       "    }\n",
       "\n",
       "    .dataframe thead th {\n",
       "        text-align: left;\n",
       "    }\n",
       "\n",
       "    .dataframe tbody tr th {\n",
       "        vertical-align: top;\n",
       "    }\n",
       "</style>\n",
       "<table border=\"1\" class=\"dataframe\">\n",
       "  <thead>\n",
       "    <tr style=\"text-align: right;\">\n",
       "      <th></th>\n",
       "      <th>gname</th>\n",
       "      <th>iyear</th>\n",
       "      <th>country</th>\n",
       "      <th>region</th>\n",
       "      <th>attacktype1</th>\n",
       "      <th>weaptype1</th>\n",
       "    </tr>\n",
       "  </thead>\n",
       "  <tbody>\n",
       "    <tr>\n",
       "      <th>170345</th>\n",
       "      <td>Boko Haram</td>\n",
       "      <td>2016</td>\n",
       "      <td>146</td>\n",
       "      <td>11</td>\n",
       "      <td>9</td>\n",
       "      <td>13</td>\n",
       "    </tr>\n",
       "    <tr>\n",
       "      <th>170347</th>\n",
       "      <td>Lord's Resistance Army (LRA)</td>\n",
       "      <td>2016</td>\n",
       "      <td>229</td>\n",
       "      <td>11</td>\n",
       "      <td>6</td>\n",
       "      <td>13</td>\n",
       "    </tr>\n",
       "    <tr>\n",
       "      <th>170349</th>\n",
       "      <td>Sudan Liberation Movement</td>\n",
       "      <td>2016</td>\n",
       "      <td>195</td>\n",
       "      <td>11</td>\n",
       "      <td>2</td>\n",
       "      <td>5</td>\n",
       "    </tr>\n",
       "  </tbody>\n",
       "</table>\n",
       "</div>"
      ],
      "text/plain": [
       "                               gname  iyear  country  region  attacktype1  \\\n",
       "170345                    Boko Haram   2016      146      11            9   \n",
       "170347  Lord's Resistance Army (LRA)   2016      229      11            6   \n",
       "170349     Sudan Liberation Movement   2016      195      11            2   \n",
       "\n",
       "        weaptype1  \n",
       "170345         13  \n",
       "170347         13  \n",
       "170349          5  "
      ]
     },
     "execution_count": 17,
     "metadata": {},
     "output_type": "execute_result"
    }
   ],
   "source": [
    "if config.getboolean('Booleans', 'UseLessFeatures') == True:\n",
    "    columns_to_keep = ['gname', 'iyear', 'country', 'region', 'attacktype1', 'weaptype1']\n",
    "else:\n",
    "    columns_to_keep = ['gname', 'iyear', 'country', 'crit1', 'crit2', 'crit3', 'attacktype1', 'targtype1',\n",
    "                       'targsubtype1','weaptype1', 'weapsubtype1', 'ransom']\n",
    "    \n",
    "gtd = gtd[columns_to_keep]\n",
    "gtd.tail(3)"
   ]
  },
  {
   "cell_type": "markdown",
   "metadata": {},
   "source": [
    "### Transform Target"
   ]
  },
  {
   "cell_type": "code",
   "execution_count": 18,
   "metadata": {
    "collapsed": true
   },
   "outputs": [],
   "source": [
    "number = preprocessing.LabelEncoder()\n",
    "gtd['gname'] = number.fit_transform(gtd.gname) #number.inverse_transform()\n",
    "gtd = gtd.rename(columns={'gname': 'groupId'})"
   ]
  },
  {
   "cell_type": "markdown",
   "metadata": {},
   "source": [
    "### Fill NaNs"
   ]
  },
  {
   "cell_type": "code",
   "execution_count": 19,
   "metadata": {},
   "outputs": [
    {
     "data": {
      "text/html": [
       "<div>\n",
       "<style>\n",
       "    .dataframe thead tr:only-child th {\n",
       "        text-align: right;\n",
       "    }\n",
       "\n",
       "    .dataframe thead th {\n",
       "        text-align: left;\n",
       "    }\n",
       "\n",
       "    .dataframe tbody tr th {\n",
       "        vertical-align: top;\n",
       "    }\n",
       "</style>\n",
       "<table border=\"1\" class=\"dataframe\">\n",
       "  <thead>\n",
       "    <tr style=\"text-align: right;\">\n",
       "      <th></th>\n",
       "      <th>groupId</th>\n",
       "      <th>iyear</th>\n",
       "      <th>country</th>\n",
       "      <th>region</th>\n",
       "      <th>attacktype1</th>\n",
       "      <th>weaptype1</th>\n",
       "    </tr>\n",
       "  </thead>\n",
       "  <tbody>\n",
       "    <tr>\n",
       "      <th>170345</th>\n",
       "      <td>214</td>\n",
       "      <td>2016</td>\n",
       "      <td>146</td>\n",
       "      <td>11</td>\n",
       "      <td>9</td>\n",
       "      <td>13</td>\n",
       "    </tr>\n",
       "    <tr>\n",
       "      <th>170347</th>\n",
       "      <td>555</td>\n",
       "      <td>2016</td>\n",
       "      <td>229</td>\n",
       "      <td>11</td>\n",
       "      <td>6</td>\n",
       "      <td>13</td>\n",
       "    </tr>\n",
       "    <tr>\n",
       "      <th>170349</th>\n",
       "      <td>919</td>\n",
       "      <td>2016</td>\n",
       "      <td>195</td>\n",
       "      <td>11</td>\n",
       "      <td>2</td>\n",
       "      <td>5</td>\n",
       "    </tr>\n",
       "  </tbody>\n",
       "</table>\n",
       "</div>"
      ],
      "text/plain": [
       "        groupId  iyear  country  region  attacktype1  weaptype1\n",
       "170345      214   2016      146      11            9         13\n",
       "170347      555   2016      229      11            6         13\n",
       "170349      919   2016      195      11            2          5"
      ]
     },
     "execution_count": 19,
     "metadata": {},
     "output_type": "execute_result"
    }
   ],
   "source": [
    "gtd=gtd.fillna(0) #TODO: 999 or 0?\n",
    "\n",
    "gtd.tail(3)"
   ]
  },
  {
   "cell_type": "code",
   "execution_count": null,
   "metadata": {
    "collapsed": true
   },
   "outputs": [],
   "source": [
    "gtd.to_csv('gtd_processed_11features.csv', encoding='utf-8', index=False)"
   ]
  }
 ],
 "metadata": {
  "kernelspec": {
   "display_name": "Python 2",
   "language": "python",
   "name": "python2"
  },
  "language_info": {
   "codemirror_mode": {
    "name": "ipython",
    "version": 2
   },
   "file_extension": ".py",
   "mimetype": "text/x-python",
   "name": "python",
   "nbconvert_exporter": "python",
   "pygments_lexer": "ipython2",
   "version": "2.7.13"
  }
 },
 "nbformat": 4,
 "nbformat_minor": 2
}
