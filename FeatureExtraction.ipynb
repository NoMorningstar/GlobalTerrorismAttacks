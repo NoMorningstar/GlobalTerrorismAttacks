{
 "cells": [
  {
   "cell_type": "markdown",
   "metadata": {},
   "source": [
    "# Feature Extraction with PCA & SVD"
   ]
  },
  {
   "cell_type": "markdown",
   "metadata": {},
   "source": [
    "**Table of Contents**\n",
    "<div id=\"toc\"></div>"
   ]
  },
  {
   "cell_type": "markdown",
   "metadata": {},
   "source": [
    "## Preparation"
   ]
  },
  {
   "cell_type": "code",
   "execution_count": 21,
   "metadata": {
    "collapsed": true
   },
   "outputs": [],
   "source": [
    "import ConfigParser\n",
    "config = ConfigParser.ConfigParser()\n",
    "config.read('config.ini')\n",
    "\n",
    "import pandas as pd\n",
    "import numpy as np\n",
    "import time\n",
    "from pandas.plotting import scatter_matrix\n",
    "import matplotlib.pyplot as plt\n",
    "\n",
    "from sklearn.feature_extraction import DictVectorizer\n",
    "from sklearn.tree import DecisionTreeClassifier\n",
    "from sklearn.decomposition import PCA\n",
    "from sklearn.model_selection import train_test_split\n",
    "from sklearn.decomposition import TruncatedSVD\n",
    "from sklearn.model_selection import cross_val_score\n",
    "from sklearn.svm import SVC\n",
    "from sklearn import model_selection\n",
    "from sklearn.metrics import classification_report\n",
    "from sklearn.metrics import confusion_matrix\n",
    "from sklearn.metrics import accuracy_score\n",
    "from sklearn.linear_model import LogisticRegression\n",
    "from sklearn.tree import DecisionTreeClassifier\n",
    "from sklearn.ensemble import RandomForestClassifier\n",
    "from sklearn.neighbors import KNeighborsClassifier\n",
    "from sklearn.discriminant_analysis import LinearDiscriminantAnalysis\n",
    "from sklearn.naive_bayes import GaussianNB\n",
    "from sklearn.svm import SVC\n",
    "\n",
    "gtd = pd.read_csv('gtd_processed_11features.csv', encoding='latin1', low_memory=False)"
   ]
  },
  {
   "cell_type": "code",
   "execution_count": 22,
   "metadata": {},
   "outputs": [
    {
     "data": {
      "text/html": [
       "<div>\n",
       "<style>\n",
       "    .dataframe thead tr:only-child th {\n",
       "        text-align: right;\n",
       "    }\n",
       "\n",
       "    .dataframe thead th {\n",
       "        text-align: left;\n",
       "    }\n",
       "\n",
       "    .dataframe tbody tr th {\n",
       "        vertical-align: top;\n",
       "    }\n",
       "</style>\n",
       "<table border=\"1\" class=\"dataframe\">\n",
       "  <thead>\n",
       "    <tr style=\"text-align: right;\">\n",
       "      <th></th>\n",
       "      <th>groupId</th>\n",
       "      <th>iyear</th>\n",
       "      <th>country</th>\n",
       "      <th>crit1</th>\n",
       "      <th>crit2</th>\n",
       "      <th>crit3</th>\n",
       "      <th>attacktype1</th>\n",
       "      <th>targtype1</th>\n",
       "      <th>targsubtype1</th>\n",
       "      <th>weaptype1</th>\n",
       "      <th>weapsubtype1</th>\n",
       "      <th>ransom</th>\n",
       "    </tr>\n",
       "  </thead>\n",
       "  <tbody>\n",
       "    <tr>\n",
       "      <th>55563</th>\n",
       "      <td>420</td>\n",
       "      <td>2011</td>\n",
       "      <td>153</td>\n",
       "      <td>1</td>\n",
       "      <td>1</td>\n",
       "      <td>1</td>\n",
       "      <td>1</td>\n",
       "      <td>3</td>\n",
       "      <td>25.0</td>\n",
       "      <td>6.0</td>\n",
       "      <td>15.0</td>\n",
       "      <td>0.0</td>\n",
       "    </tr>\n",
       "    <tr>\n",
       "      <th>55564</th>\n",
       "      <td>208</td>\n",
       "      <td>2011</td>\n",
       "      <td>92</td>\n",
       "      <td>1</td>\n",
       "      <td>1</td>\n",
       "      <td>1</td>\n",
       "      <td>2</td>\n",
       "      <td>1</td>\n",
       "      <td>10.0</td>\n",
       "      <td>5.0</td>\n",
       "      <td>5.0</td>\n",
       "      <td>0.0</td>\n",
       "    </tr>\n",
       "    <tr>\n",
       "      <th>55565</th>\n",
       "      <td>379</td>\n",
       "      <td>2011</td>\n",
       "      <td>92</td>\n",
       "      <td>1</td>\n",
       "      <td>0</td>\n",
       "      <td>1</td>\n",
       "      <td>6</td>\n",
       "      <td>17</td>\n",
       "      <td>0.0</td>\n",
       "      <td>9.0</td>\n",
       "      <td>23.0</td>\n",
       "      <td>-9.0</td>\n",
       "    </tr>\n",
       "    <tr>\n",
       "      <th>55566</th>\n",
       "      <td>758</td>\n",
       "      <td>2011</td>\n",
       "      <td>153</td>\n",
       "      <td>1</td>\n",
       "      <td>1</td>\n",
       "      <td>1</td>\n",
       "      <td>9</td>\n",
       "      <td>14</td>\n",
       "      <td>67.0</td>\n",
       "      <td>13.0</td>\n",
       "      <td>0.0</td>\n",
       "      <td>0.0</td>\n",
       "    </tr>\n",
       "    <tr>\n",
       "      <th>55567</th>\n",
       "      <td>43</td>\n",
       "      <td>2011</td>\n",
       "      <td>182</td>\n",
       "      <td>1</td>\n",
       "      <td>1</td>\n",
       "      <td>1</td>\n",
       "      <td>2</td>\n",
       "      <td>14</td>\n",
       "      <td>67.0</td>\n",
       "      <td>5.0</td>\n",
       "      <td>5.0</td>\n",
       "      <td>0.0</td>\n",
       "    </tr>\n",
       "  </tbody>\n",
       "</table>\n",
       "</div>"
      ],
      "text/plain": [
       "       groupId  iyear  country  crit1  crit2  crit3  attacktype1  targtype1  \\\n",
       "55563      420   2011      153      1      1      1            1          3   \n",
       "55564      208   2011       92      1      1      1            2          1   \n",
       "55565      379   2011       92      1      0      1            6         17   \n",
       "55566      758   2011      153      1      1      1            9         14   \n",
       "55567       43   2011      182      1      1      1            2         14   \n",
       "\n",
       "       targsubtype1  weaptype1  weapsubtype1  ransom  \n",
       "55563          25.0        6.0          15.0     0.0  \n",
       "55564          10.0        5.0           5.0     0.0  \n",
       "55565           0.0        9.0          23.0    -9.0  \n",
       "55566          67.0       13.0           0.0     0.0  \n",
       "55567          67.0        5.0           5.0     0.0  "
      ]
     },
     "execution_count": 22,
     "metadata": {},
     "output_type": "execute_result"
    }
   ],
   "source": [
    "gtd.tail(5)"
   ]
  },
  {
   "cell_type": "code",
   "execution_count": 23,
   "metadata": {
    "collapsed": true
   },
   "outputs": [],
   "source": [
    "features = gtd[['iyear', 'country', 'crit1', 'crit2', 'crit3', 'attacktype1', 'targtype1', \n",
    "                'targsubtype1', 'weaptype1', 'weapsubtype1', 'ransom']]"
   ]
  },
  {
   "cell_type": "code",
   "execution_count": 24,
   "metadata": {
    "collapsed": true
   },
   "outputs": [],
   "source": [
    "df = (pd.DataFrame(features)).to_dict(orient='records')\n",
    "dv = DictVectorizer(sparse=False) \n",
    "features = dv.fit_transform(features.to_dict(orient='records'))"
   ]
  },
  {
   "cell_type": "code",
   "execution_count": 25,
   "metadata": {
    "collapsed": true
   },
   "outputs": [],
   "source": [
    "array = gtd.values\n",
    "X = array[:,1:]\n",
    "target = array[:,0]"
   ]
  },
  {
   "cell_type": "markdown",
   "metadata": {},
   "source": [
    "## PCA"
   ]
  },
  {
   "cell_type": "code",
   "execution_count": 26,
   "metadata": {
    "collapsed": true
   },
   "outputs": [],
   "source": [
    "pca = PCA(n_components=11)\n",
    "reducedPCAFeatures = pca.fit_transform(features)"
   ]
  },
  {
   "cell_type": "markdown",
   "metadata": {},
   "source": [
    "### Variance"
   ]
  },
  {
   "cell_type": "code",
   "execution_count": 27,
   "metadata": {},
   "outputs": [
    {
     "name": "stdout",
     "output_type": "stream",
     "text": [
      "[  2.04549917e+04   1.13099163e+03   9.31879236e+01   5.17556499e+01\n",
      "   7.77422614e+00   7.02222864e+00   1.61172654e+00   7.10115969e-01\n",
      "   1.00894416e-01   1.02668635e-02   2.32207774e-03]\n"
     ]
    }
   ],
   "source": [
    "print pca.explained_variance_"
   ]
  },
  {
   "cell_type": "markdown",
   "metadata": {},
   "source": [
    "### Variance Ratio"
   ]
  },
  {
   "cell_type": "code",
   "execution_count": 28,
   "metadata": {},
   "outputs": [
    {
     "name": "stdout",
     "output_type": "stream",
     "text": [
      "[  9.40539013e-01   5.20040179e-02   4.28486499e-03   2.37977158e-03\n",
      "   3.57465948e-04   3.22888422e-04   7.41086435e-05   3.26517744e-05\n",
      "   4.63921647e-06   4.72079666e-07   1.06771234e-07]\n"
     ]
    }
   ],
   "source": [
    "print pca.explained_variance_ratio_"
   ]
  },
  {
   "cell_type": "markdown",
   "metadata": {},
   "source": [
    "### Variance Ratio Cumulative Sum"
   ]
  },
  {
   "cell_type": "code",
   "execution_count": 29,
   "metadata": {},
   "outputs": [
    {
     "name": "stdout",
     "output_type": "stream",
     "text": [
      "[ 0.94053901  0.99254303  0.9968279   0.99920767  0.99956513  0.99988802\n",
      "  0.99996213  0.99999478  0.99999942  0.99999989  1.        ]\n"
     ]
    }
   ],
   "source": [
    "print pca.explained_variance_ratio_.cumsum()"
   ]
  },
  {
   "cell_type": "markdown",
   "metadata": {},
   "source": [
    "So we would retain 99.6% of the variance with 3 components"
   ]
  },
  {
   "cell_type": "markdown",
   "metadata": {},
   "source": [
    "### Refit"
   ]
  },
  {
   "cell_type": "code",
   "execution_count": 30,
   "metadata": {
    "collapsed": true
   },
   "outputs": [],
   "source": [
    "pca = PCA(n_components=3)\n",
    "reducedPCAFeatures = pca.fit_transform(features)"
   ]
  },
  {
   "cell_type": "markdown",
   "metadata": {},
   "source": [
    "Split for PCA:"
   ]
  },
  {
   "cell_type": "code",
   "execution_count": 31,
   "metadata": {
    "collapsed": true
   },
   "outputs": [],
   "source": [
    "X_train_PCA, X_test_PCA, Y_train_PCA, Y_test_PCA = train_test_split(reducedPCAFeatures, target, test_size=0.30)"
   ]
  },
  {
   "cell_type": "markdown",
   "metadata": {},
   "source": [
    "## SVD:"
   ]
  },
  {
   "cell_type": "code",
   "execution_count": 32,
   "metadata": {
    "collapsed": true
   },
   "outputs": [],
   "source": [
    "svd = TruncatedSVD(n_components=10)\n",
    "reducedSVDFeatures = svd.fit_transform(features)"
   ]
  },
  {
   "cell_type": "markdown",
   "metadata": {},
   "source": [
    "### Variance"
   ]
  },
  {
   "cell_type": "code",
   "execution_count": 33,
   "metadata": {},
   "outputs": [
    {
     "name": "stdout",
     "output_type": "stream",
     "text": [
      "[  1.63648578e+02   2.03862213e+04   1.12878603e+03   5.22045298e+01\n",
      "   7.81392396e+00   7.02461402e+00   1.61814237e+00   7.27312425e-01\n",
      "   1.01632540e-01   1.02926131e-02]\n"
     ]
    }
   ],
   "source": [
    "print svd.explained_variance_"
   ]
  },
  {
   "cell_type": "markdown",
   "metadata": {},
   "source": [
    "### Variance Ratio"
   ]
  },
  {
   "cell_type": "code",
   "execution_count": 34,
   "metadata": {},
   "outputs": [
    {
     "name": "stdout",
     "output_type": "stream",
     "text": [
      "[  7.52470960e-03   9.37376886e-01   5.19026021e-02   2.40041148e-03\n",
      "   3.59291289e-04   3.22998104e-04   7.44036491e-05   3.34424829e-05\n",
      "   4.67315609e-06   4.73263657e-07]\n"
     ]
    }
   ],
   "source": [
    "print svd.explained_variance_ratio_"
   ]
  },
  {
   "cell_type": "markdown",
   "metadata": {},
   "source": [
    "### Variance Ratio Cumulative Sum"
   ]
  },
  {
   "cell_type": "code",
   "execution_count": 35,
   "metadata": {},
   "outputs": [
    {
     "name": "stdout",
     "output_type": "stream",
     "text": [
      "[ 0.00752471  0.9449016   0.9968042   0.99920461  0.9995639   0.9998869\n",
      "  0.9999613   0.99999475  0.99999942  0.99999989]\n"
     ]
    }
   ],
   "source": [
    "print svd.explained_variance_ratio_.cumsum()"
   ]
  },
  {
   "cell_type": "markdown",
   "metadata": {},
   "source": [
    "So we would also retain 99.6% of the variance with 3 components"
   ]
  },
  {
   "cell_type": "markdown",
   "metadata": {},
   "source": [
    "### Refit"
   ]
  },
  {
   "cell_type": "code",
   "execution_count": 36,
   "metadata": {
    "collapsed": true
   },
   "outputs": [],
   "source": [
    "svd = TruncatedSVD(n_components=3)\n",
    "reducedSVDFeatures = svd.fit_transform(features)"
   ]
  },
  {
   "cell_type": "markdown",
   "metadata": {},
   "source": [
    "Split for SVD:"
   ]
  },
  {
   "cell_type": "code",
   "execution_count": 37,
   "metadata": {
    "collapsed": true
   },
   "outputs": [],
   "source": [
    "X_train_SVD, X_test_SVD, Y_train_SVD, Y_test_SVD = train_test_split(reducedSVDFeatures, target, test_size=0.30)"
   ]
  },
  {
   "cell_type": "markdown",
   "metadata": {},
   "source": [
    "## Classifying"
   ]
  },
  {
   "cell_type": "code",
   "execution_count": 38,
   "metadata": {},
   "outputs": [],
   "source": [
    "models = []\n",
    "models.append(('KNC', KNeighborsClassifier()))\n",
    "models.append(('DTC', DecisionTreeClassifier()))\n",
    "\n",
    "if config.getboolean('Booleans', 'RunPoorPerformingClassifiers') == True:\n",
    "    models.append(('GNB', GaussianNB())) # GNB: 0.353792% (0.002758) - 9.339 seconds\n",
    "    models.append(('LDA', LinearDiscriminantAnalysis())) #LDA: 0.285051% (0.004282) - 5.299 seconds\n",
    "\n",
    "if config.getboolean('Booleans', 'RunRandomForest') == True:\n",
    "    models.append(('RF', RandomForestClassifier()))\n",
    "\n",
    "if config.getboolean('Booleans', 'RunSVM') == True:\n",
    "    models.append(('SVM', SVC())) #Too slow for this many samples - O(N^3)\n",
    "\n",
    "results = []\n",
    "names = []\n",
    "scoring = 'accuracy'\n",
    "seed = 188"
   ]
  },
  {
   "cell_type": "markdown",
   "metadata": {},
   "source": [
    "### PCA"
   ]
  },
  {
   "cell_type": "code",
   "execution_count": 39,
   "metadata": {},
   "outputs": [
    {
     "name": "stdout",
     "output_type": "stream",
     "text": [
      "KNC: 0.636013% (0.006355) - 2.428 seconds\n",
      "DTC: 0.667661% (0.004953) - 21.527 seconds\n",
      "RF: 0.660951% (0.006428) - 66.807 seconds\n"
     ]
    }
   ],
   "source": [
    "for name, model in models:\n",
    "    start_time = time.time()\n",
    "    kfold = model_selection.KFold(n_splits=10, random_state=seed) #ensure same seed so models are directly comparable\n",
    "    cv_results = model_selection.cross_val_score(model, X_train_PCA, Y_train_PCA, cv=kfold, scoring=scoring)\n",
    "    results.append(cv_results)\n",
    "    names.append(name)\n",
    "    msg = \"%s: %f%% (%f) - %s seconds\" % (name, cv_results.mean(), cv_results.std(), round((time.time() - start_time),3))\n",
    "    print(msg)"
   ]
  },
  {
   "cell_type": "markdown",
   "metadata": {},
   "source": [
    "#### Result Plot:"
   ]
  },
  {
   "cell_type": "code",
   "execution_count": 40,
   "metadata": {},
   "outputs": [
    {
     "data": {
      "image/png": "[encoded data removed]",
      "text/plain": [
       "<matplotlib.figure.Figure at 0x1125e5b50>"
      ]
     },
     "metadata": {},
     "output_type": "display_data"
    }
   ],
   "source": [
    "fig = plt.figure()\n",
    "fig.suptitle('PCA Comparison')\n",
    "ax = fig.add_subplot(111)\n",
    "plt.boxplot(results)\n",
    "ax.set_xticklabels(names)\n",
    "plt.show()"
   ]
  },
  {
   "cell_type": "markdown",
   "metadata": {},
   "source": [
    "### SVD"
   ]
  },
  {
   "cell_type": "code",
   "execution_count": 46,
   "metadata": {},
   "outputs": [
    {
     "name": "stdout",
     "output_type": "stream",
     "text": [
      "KNC: 0.643160% (0.004701) - 2.048 seconds\n",
      "DTC: 0.671851% (0.004560) - 17.179 seconds\n",
      "RF: 0.669871% (0.006427) - 70.466 seconds\n"
     ]
    }
   ],
   "source": [
    "for name, model in models:\n",
    "    start_time = time.time()\n",
    "    kfold = model_selection.KFold(n_splits=10, random_state=seed) #ensure same seed so models are directly comparable\n",
    "    cv_results = model_selection.cross_val_score(model, X_train_SVD, Y_train_SVD, cv=kfold, scoring=scoring)\n",
    "    results.append(cv_results)\n",
    "    names.append(name)\n",
    "    msg = \"%s: %f%% (%f) - %s seconds\" % (name, cv_results.mean(), cv_results.std(), round((time.time() - start_time),3))\n",
    "    print(msg)"
   ]
  },
  {
   "cell_type": "markdown",
   "metadata": {},
   "source": [
    "Results:"
   ]
  },
  {
   "cell_type": "code",
   "execution_count": 47,
   "metadata": {},
   "outputs": [
    {
     "data": {
      "image/png": "[encoded data removed]",
      "text/plain": [
       "<matplotlib.figure.Figure at 0x10f5ee1d0>"
      ]
     },
     "metadata": {},
     "output_type": "display_data"
    }
   ],
   "source": [
    "fig = plt.figure()\n",
    "fig.suptitle('SVD Comparison')\n",
    "ax = fig.add_subplot(111)\n",
    "plt.boxplot(results)\n",
    "ax.set_xticklabels(names)\n",
    "plt.show()"
   ]
  },
  {
   "cell_type": "markdown",
   "metadata": {},
   "source": [
    "#### Predicting on Validation set"
   ]
  },
  {
   "cell_type": "code",
   "execution_count": 51,
   "metadata": {
    "collapsed": true
   },
   "outputs": [],
   "source": []
  },
  {
   "cell_type": "code",
   "execution_count": 52,
   "metadata": {},
   "outputs": [
    {
     "name": "stdout",
     "output_type": "stream",
     "text": [
      "0.70073780817\n",
      "[[0 0 0 ..., 0 0 0]\n",
      " [0 1 0 ..., 0 0 0]\n",
      " [0 0 3 ..., 0 0 0]\n",
      " ..., \n",
      " [0 0 0 ..., 0 0 0]\n",
      " [0 0 0 ..., 0 0 0]\n",
      " [0 0 0 ..., 1 0 0]]\n",
      "             precision    recall  f1-score   support\n",
      "\n",
      "        0.0       0.00      0.00      0.00         1\n",
      "        1.0       1.00      0.50      0.67         2\n",
      "        2.0       0.75      0.75      0.75         4\n",
      "        4.0       0.50      1.00      0.67         1\n",
      "        5.0       0.67      0.50      0.57         4\n",
      "        6.0       1.00      0.80      0.89         5\n",
      "        7.0       0.00      0.00      0.00         2\n",
      "        8.0       0.67      1.00      0.80         2\n",
      "        9.0       0.50      1.00      0.67         2\n",
      "       13.0       1.00      1.00      1.00         1\n",
      "       14.0       0.33      0.25      0.29         4\n",
      "       15.0       0.41      0.38      0.39        24\n",
      "       16.0       0.29      0.33      0.31         6\n",
      "       18.0       0.00      0.00      0.00         1\n",
      "       20.0       0.40      1.00      0.57         2\n",
      "       22.0       0.96      0.99      0.97        70\n",
      "       23.0       0.00      0.00      0.00         1\n",
      "       24.0       0.00      0.00      0.00         1\n",
      "       25.0       0.00      0.00      0.00         0\n",
      "       26.0       0.00      0.00      0.00         1\n",
      "       27.0       0.47      0.53      0.50        15\n",
      "       29.0       0.00      0.00      0.00         1\n",
      "       30.0       0.00      0.00      0.00         2\n",
      "       31.0       0.93      0.96      0.95        28\n",
      "       32.0       0.00      0.00      0.00         1\n",
      "       33.0       0.00      0.00      0.00         1\n",
      "       35.0       0.00      0.00      0.00         0\n",
      "       36.0       0.50      1.00      0.67         1\n",
      "       37.0       0.50      0.20      0.29         5\n",
      "       38.0       0.59      0.67      0.63        24\n",
      "       39.0       1.00      1.00      1.00         1\n",
      "       40.0       1.00      1.00      1.00         1\n",
      "       41.0       0.40      0.40      0.40         5\n",
      "       42.0       0.57      0.53      0.55        15\n",
      "       43.0       0.90      0.86      0.88        21\n",
      "       44.0       1.00      1.00      1.00         1\n",
      "       45.0       0.00      0.00      0.00         1\n",
      "       46.0       1.00      1.00      1.00         2\n",
      "       49.0       1.00      0.80      0.89         5\n",
      "       50.0       0.00      0.00      0.00         1\n",
      "       51.0       0.75      0.50      0.60         6\n",
      "       52.0       0.41      0.53      0.46        38\n",
      "       55.0       0.50      1.00      0.67         1\n",
      "       56.0       0.40      0.67      0.50         3\n",
      "       57.0       0.00      0.00      0.00         3\n",
      "       58.0       0.00      0.00      0.00         1\n",
      "       59.0       0.50      1.00      0.67         1\n",
      "       60.0       0.00      0.00      0.00         1\n",
      "       61.0       0.75      0.60      0.67         5\n",
      "       62.0       0.75      0.75      0.75         8\n",
      "       63.0       0.00      0.00      0.00         1\n",
      "       64.0       0.00      0.00      0.00         4\n",
      "       65.0       0.00      0.00      0.00         1\n",
      "       66.0       1.00      1.00      1.00        12\n",
      "       67.0       0.00      0.00      0.00         1\n",
      "       72.0       0.50      1.00      0.67         1\n",
      "       73.0       0.50      0.50      0.50         2\n",
      "       74.0       1.00      0.40      0.57         5\n",
      "       76.0       0.00      0.00      0.00         1\n",
      "       77.0       1.00      1.00      1.00         1\n",
      "       78.0       0.00      0.00      0.00         0\n",
      "       79.0       0.00      0.00      0.00         1\n",
      "       81.0       0.00      0.00      0.00         2\n",
      "       82.0       0.00      0.00      0.00         1\n",
      "       83.0       1.00      0.50      0.67         2\n",
      "       85.0       1.00      1.00      1.00         4\n",
      "       86.0       0.67      1.00      0.80         2\n",
      "       87.0       1.00      1.00      1.00         1\n",
      "       89.0       1.00      0.50      0.67         2\n",
      "       91.0       1.00      1.00      1.00         3\n",
      "       92.0       1.00      0.67      0.80         3\n",
      "       93.0       0.00      0.00      0.00         0\n",
      "       94.0       0.00      0.00      0.00         0\n",
      "       95.0       0.00      0.00      0.00         0\n",
      "       96.0       0.00      0.00      0.00         0\n",
      "       98.0       0.00      0.00      0.00         0\n",
      "      100.0       0.00      0.00      0.00         0\n",
      "      103.0       0.40      0.67      0.50         3\n",
      "      104.0       0.50      1.00      0.67         1\n",
      "      106.0       0.33      0.59      0.43        22\n",
      "      107.0       0.00      0.00      0.00         0\n",
      "      108.0       0.25      0.20      0.22         5\n",
      "      109.0       0.00      0.00      0.00         0\n",
      "      110.0       0.25      0.33      0.29         3\n",
      "      111.0       1.00      1.00      1.00         1\n",
      "      112.0       0.00      0.00      0.00         1\n",
      "      113.0       1.00      0.75      0.86         4\n",
      "      114.0       0.00      0.00      0.00         2\n",
      "      116.0       0.00      0.00      0.00         1\n",
      "      117.0       0.00      0.00      0.00         1\n",
      "      118.0       0.00      0.00      0.00         0\n",
      "      119.0       0.39      0.39      0.39        18\n",
      "      121.0       1.00      0.50      0.67         2\n",
      "      122.0       0.00      0.00      0.00         1\n",
      "      123.0       1.00      1.00      1.00         1\n",
      "      124.0       0.00      0.00      0.00         1\n",
      "      126.0       0.00      0.00      0.00         1\n",
      "      128.0       0.50      1.00      0.67         1\n",
      "      129.0       0.00      0.00      0.00         2\n",
      "      130.0       1.00      1.00      1.00         1\n",
      "      131.0       0.00      0.00      0.00         1\n",
      "      132.0       0.00      0.00      0.00         1\n",
      "      133.0       1.00      1.00      1.00         1\n",
      "      134.0       1.00      0.60      0.75         5\n",
      "      135.0       0.00      0.00      0.00         2\n",
      "      136.0       0.00      0.00      0.00         3\n",
      "      137.0       0.00      0.00      0.00         2\n",
      "      138.0       0.00      0.00      0.00         1\n",
      "      139.0       0.50      0.50      0.50         2\n",
      "      140.0       0.50      1.00      0.67         1\n",
      "      141.0       1.00      1.00      1.00         1\n",
      "      142.0       0.00      0.00      0.00         1\n",
      "      143.0       0.00      0.00      0.00         1\n",
      "      144.0       0.00      0.00      0.00         1\n",
      "      145.0       0.90      0.89      0.90       201\n",
      "      147.0       0.00      0.00      0.00         1\n",
      "      149.0       0.00      0.00      0.00         0\n",
      "      150.0       0.00      0.00      0.00         2\n",
      "      151.0       0.00      0.00      0.00         1\n",
      "      152.0       0.00      0.00      0.00         1\n",
      "      154.0       0.00      0.00      0.00         1\n",
      "      155.0       1.00      0.80      0.89         5\n",
      "      156.0       0.00      0.00      0.00         0\n",
      "      157.0       0.45      1.00      0.62         5\n",
      "      159.0       0.00      0.00      0.00         1\n",
      "      160.0       0.50      0.25      0.33         4\n",
      "      161.0       0.20      0.33      0.25         3\n",
      "      164.0       0.00      0.00      0.00         2\n",
      "      165.0       0.00      0.00      0.00         2\n",
      "      166.0       0.29      0.20      0.24        10\n",
      "      167.0       1.00      0.67      0.80         3\n",
      "      168.0       1.00      1.00      1.00         2\n",
      "      169.0       1.00      1.00      1.00         2\n",
      "      171.0       0.50      0.50      0.50         6\n",
      "      173.0       1.00      1.00      1.00         7\n",
      "      174.0       1.00      1.00      1.00         1\n",
      "      176.0       1.00      1.00      1.00         1\n",
      "      178.0       0.38      1.00      0.55         3\n",
      "      179.0       0.00      0.00      0.00         0\n",
      "      180.0       0.70      1.00      0.82         7\n",
      "      181.0       0.67      0.67      0.67         3\n",
      "      182.0       0.00      0.00      0.00         1\n",
      "      183.0       0.00      0.00      0.00         1\n",
      "      185.0       0.91      0.86      0.88        35\n",
      "      186.0       0.25      1.00      0.40         1\n",
      "      188.0       0.00      0.00      0.00         1\n",
      "      190.0       0.75      0.75      0.75         4\n",
      "      191.0       0.67      0.50      0.57         4\n",
      "      192.0       1.00      1.00      1.00         1\n",
      "      196.0       0.00      0.00      0.00         3\n",
      "      197.0       0.00      0.00      0.00         1\n",
      "      198.0       0.00      0.00      0.00         1\n",
      "      199.0       1.00      1.00      1.00         1\n",
      "      200.0       0.00      0.00      0.00         0\n",
      "      201.0       0.00      0.00      0.00         1\n",
      "      202.0       1.00      1.00      1.00         1\n",
      "      204.0       0.00      0.00      0.00         1\n",
      "      206.0       1.00      1.00      1.00         4\n",
      "      207.0       0.00      0.00      0.00         2\n",
      "      208.0       0.85      0.86      0.85       113\n",
      "      209.0       0.00      0.00      0.00         1\n",
      "      210.0       0.00      0.00      0.00         3\n",
      "      212.0       0.70      0.78      0.74         9\n",
      "      214.0       1.00      0.75      0.86         4\n",
      "      215.0       0.00      0.00      0.00         2\n",
      "      216.0       0.86      0.86      0.86         7\n",
      "      217.0       0.00      0.00      0.00         0\n",
      "      218.0       0.00      0.00      0.00         1\n",
      "      219.0       0.77      0.72      0.74        60\n",
      "      220.0       0.67      0.91      0.77        11\n",
      "      221.0       1.00      1.00      1.00         1\n",
      "      222.0       0.67      0.33      0.44         6\n",
      "      223.0       0.00      0.00      0.00         2\n",
      "      224.0       0.00      0.00      0.00         0\n",
      "      225.0       0.00      0.00      0.00         1\n",
      "      226.0       0.40      0.50      0.44         4\n",
      "      227.0       0.00      0.00      0.00         2\n",
      "      228.0       0.33      1.00      0.50         1\n",
      "      230.0       1.00      1.00      1.00         3\n",
      "      232.0       0.66      0.62      0.64        37\n",
      "      234.0       0.20      1.00      0.33         1\n",
      "      235.0       0.00      0.00      0.00         1\n",
      "      236.0       0.00      0.00      0.00         4\n",
      "      237.0       0.33      0.33      0.33         3\n",
      "      238.0       0.00      0.00      0.00         1\n",
      "      239.0       0.50      0.06      0.11        17\n",
      "      240.0       0.00      0.00      0.00         0\n",
      "      241.0       0.50      1.00      0.67         1\n",
      "      242.0       0.83      0.66      0.73        29\n",
      "      243.0       0.00      0.00      0.00         0\n",
      "      244.0       0.00      0.00      0.00         1\n",
      "      245.0       0.00      0.00      0.00         0\n",
      "      246.0       0.25      0.50      0.33         2\n",
      "      247.0       0.00      0.00      0.00         1\n",
      "      248.0       1.00      1.00      1.00         1\n",
      "      251.0       0.00      0.00      0.00         1\n",
      "      252.0       0.00      0.00      0.00         3\n",
      "      253.0       1.00      1.00      1.00         6\n",
      "      254.0       1.00      1.00      1.00         1\n",
      "      255.0       0.00      0.00      0.00         2\n",
      "      257.0       0.00      0.00      0.00         0\n",
      "      258.0       1.00      1.00      1.00         1\n",
      "      259.0       0.50      0.43      0.46         7\n",
      "      260.0       0.33      0.50      0.40         2\n",
      "      261.0       0.00      0.00      0.00         1\n",
      "      262.0       0.00      0.00      0.00         0\n",
      "      263.0       0.00      0.00      0.00         1\n",
      "      264.0       1.00      1.00      1.00         1\n",
      "      266.0       1.00      1.00      1.00         1\n",
      "      267.0       0.50      0.25      0.33         4\n",
      "      268.0       0.97      0.97      0.97       312\n",
      "      269.0       1.00      1.00      1.00         1\n",
      "      270.0       0.00      0.00      0.00         1\n",
      "      271.0       0.00      0.00      0.00         0\n",
      "      272.0       0.00      0.00      0.00         2\n",
      "      273.0       0.00      0.00      0.00         1\n",
      "      274.0       0.00      0.00      0.00         1\n",
      "      275.0       1.00      1.00      1.00         1\n",
      "      276.0       1.00      1.00      1.00         2\n",
      "      277.0       0.32      0.30      0.31        20\n",
      "      278.0       0.00      0.00      0.00         2\n",
      "      279.0       0.00      0.00      0.00         1\n",
      "      280.0       0.00      0.00      0.00         0\n",
      "      281.0       1.00      1.00      1.00         3\n",
      "      282.0       0.00      0.00      0.00         0\n",
      "      283.0       0.00      0.00      0.00         1\n",
      "      284.0       0.80      0.80      0.80        10\n",
      "      285.0       0.33      0.33      0.33         3\n",
      "      286.0       0.00      0.00      0.00         2\n",
      "      288.0       1.00      0.33      0.50         3\n",
      "      289.0       0.00      0.00      0.00         3\n",
      "      292.0       0.38      0.46      0.41        13\n",
      "      294.0       0.00      0.00      0.00         2\n",
      "      295.0       0.00      0.00      0.00         1\n",
      "      296.0       0.00      0.00      0.00         1\n",
      "      297.0       0.00      0.00      0.00         3\n",
      "      299.0       0.00      0.00      0.00         0\n",
      "      300.0       0.00      0.00      0.00         1\n",
      "      302.0       0.00      0.00      0.00         0\n",
      "      304.0       0.25      1.00      0.40         1\n",
      "      305.0       1.00      0.87      0.93        15\n",
      "      306.0       0.80      0.62      0.70        13\n",
      "      307.0       0.50      1.00      0.67         1\n",
      "      308.0       0.20      0.20      0.20         5\n",
      "      309.0       0.50      0.44      0.47        16\n",
      "      310.0       0.50      0.50      0.50         4\n",
      "      311.0       0.46      0.41      0.44        29\n",
      "      312.0       0.17      1.00      0.29         1\n",
      "      313.0       0.50      0.50      0.50         2\n",
      "      314.0       0.00      0.00      0.00         0\n",
      "      315.0       0.00      0.00      0.00         1\n",
      "      316.0       0.66      0.66      0.66        38\n",
      "      318.0       0.00      0.00      0.00         1\n",
      "      319.0       0.43      0.21      0.29        14\n",
      "      320.0       0.25      0.50      0.33         2\n",
      "      321.0       0.00      0.00      0.00         0\n",
      "      322.0       0.00      0.00      0.00         2\n",
      "      323.0       0.33      1.00      0.50         1\n",
      "      324.0       0.75      0.80      0.77        15\n",
      "      326.0       0.25      1.00      0.40         1\n",
      "      328.0       1.00      1.00      1.00         1\n",
      "      329.0       1.00      1.00      1.00         2\n",
      "      330.0       0.00      0.00      0.00         0\n",
      "      331.0       0.40      0.67      0.50         3\n",
      "      332.0       0.00      0.00      0.00         1\n",
      "      333.0       1.00      1.00      1.00         3\n",
      "      334.0       1.00      1.00      1.00         2\n",
      "      336.0       0.00      0.00      0.00         1\n",
      "      337.0       1.00      1.00      1.00         1\n",
      "      338.0       0.00      0.00      0.00         2\n",
      "      339.0       0.00      0.00      0.00         1\n",
      "      340.0       0.75      0.38      0.50         8\n",
      "      341.0       0.00      0.00      0.00         0\n",
      "      342.0       0.00      0.00      0.00         2\n",
      "      343.0       0.00      0.00      0.00         1\n",
      "      344.0       1.00      1.00      1.00         1\n",
      "      345.0       0.00      0.00      0.00         2\n",
      "      346.0       0.15      0.25      0.19         8\n",
      "      347.0       0.00      0.00      0.00         0\n",
      "      348.0       0.90      0.88      0.89       293\n",
      "      349.0       0.14      0.12      0.13         8\n",
      "      350.0       0.50      1.00      0.67         1\n",
      "      351.0       0.00      0.00      0.00         0\n",
      "      352.0       1.00      1.00      1.00         1\n",
      "      353.0       0.67      0.83      0.74        12\n",
      "      354.0       0.36      0.50      0.42        10\n",
      "      355.0       0.44      0.42      0.43        19\n",
      "      358.0       0.25      0.50      0.33         2\n",
      "      359.0       0.00      0.00      0.00         0\n",
      "      360.0       0.00      0.00      0.00         0\n",
      "      361.0       0.00      0.00      0.00         4\n",
      "      362.0       0.00      0.00      0.00         1\n",
      "      363.0       0.00      0.00      0.00         1\n",
      "      366.0       0.00      0.00      0.00         0\n",
      "      367.0       0.50      0.14      0.22         7\n",
      "      368.0       1.00      0.25      0.40         4\n",
      "      369.0       1.00      0.50      0.67         2\n",
      "      370.0       0.50      0.86      0.63         7\n",
      "      371.0       0.00      0.00      0.00         0\n",
      "      372.0       0.00      0.00      0.00         2\n",
      "      374.0       0.38      0.75      0.50         4\n",
      "      375.0       0.00      0.00      0.00         1\n",
      "      376.0       0.40      0.20      0.27        10\n",
      "      377.0       0.00      0.00      0.00         3\n",
      "      378.0       0.50      0.50      0.50         2\n",
      "      380.0       0.50      1.00      0.67         1\n",
      "      381.0       0.50      1.00      0.67         1\n",
      "      382.0       1.00      0.50      0.67         2\n",
      "      383.0       0.00      0.00      0.00         3\n",
      "      384.0       0.00      0.00      0.00         0\n",
      "      385.0       0.00      0.00      0.00         2\n",
      "      386.0       0.67      1.00      0.80         2\n",
      "      387.0       0.00      0.00      0.00         0\n",
      "      388.0       0.00      0.00      0.00         2\n",
      "      389.0       0.00      0.00      0.00         2\n",
      "      390.0       0.33      0.50      0.40         2\n",
      "      391.0       0.00      0.00      0.00         1\n",
      "      392.0       0.33      0.25      0.29         4\n",
      "      393.0       0.56      0.62      0.59         8\n",
      "      394.0       0.46      0.55      0.50        11\n",
      "      396.0       1.00      1.00      1.00         1\n",
      "      397.0       0.00      0.00      0.00         3\n",
      "      398.0       0.33      0.50      0.40         2\n",
      "      399.0       1.00      1.00      1.00        16\n",
      "      403.0       1.00      1.00      1.00         7\n",
      "      404.0       0.40      0.67      0.50         3\n",
      "      406.0       1.00      1.00      1.00         2\n",
      "      407.0       1.00      1.00      1.00         1\n",
      "      409.0       0.00      0.00      0.00         0\n",
      "      410.0       0.00      0.00      0.00         1\n",
      "      411.0       1.00      1.00      1.00         1\n",
      "      412.0       0.50      0.50      0.50         2\n",
      "      413.0       0.00      0.00      0.00         1\n",
      "      414.0       0.50      1.00      0.67         1\n",
      "      415.0       0.50      1.00      0.67         1\n",
      "      416.0       0.90      0.91      0.90       124\n",
      "      417.0       0.00      0.00      0.00         0\n",
      "      418.0       1.00      0.50      0.67         2\n",
      "      419.0       0.25      0.50      0.33         2\n",
      "      420.0       0.00      0.00      0.00         4\n",
      "      421.0       0.38      0.33      0.35         9\n",
      "      422.0       1.00      1.00      1.00         1\n",
      "      425.0       0.00      0.00      0.00         1\n",
      "      426.0       0.00      0.00      0.00         0\n",
      "      427.0       0.00      0.00      0.00         1\n",
      "      428.0       0.00      0.00      0.00         3\n",
      "      429.0       0.37      0.64      0.47        11\n",
      "      430.0       0.62      0.76      0.68        21\n",
      "      431.0       0.33      0.25      0.29         4\n",
      "      432.0       0.50      0.50      0.50         2\n",
      "      433.0       1.00      0.75      0.86         4\n",
      "      434.0       0.84      0.94      0.89       157\n",
      "      437.0       0.65      0.76      0.70        17\n",
      "      438.0       1.00      1.00      1.00         3\n",
      "      439.0       1.00      0.50      0.67         4\n",
      "      440.0       0.50      1.00      0.67         1\n",
      "      442.0       0.37      0.49      0.42        47\n",
      "      443.0       0.00      0.00      0.00         2\n",
      "      445.0       1.00      1.00      1.00         1\n",
      "      446.0       1.00      0.50      0.67         2\n",
      "      447.0       0.33      0.33      0.33         3\n",
      "      448.0       1.00      0.50      0.67         2\n",
      "      449.0       0.00      0.00      0.00         1\n",
      "      450.0       0.92      0.94      0.93        64\n",
      "      451.0       0.20      0.25      0.22         4\n",
      "      452.0       0.74      0.79      0.77        29\n",
      "      453.0       0.00      0.00      0.00         2\n",
      "      454.0       0.00      0.00      0.00         3\n",
      "      455.0       0.50      1.00      0.67         1\n",
      "      456.0       1.00      0.50      0.67         2\n",
      "      458.0       0.33      1.00      0.50         1\n",
      "      460.0       0.50      0.33      0.40         3\n",
      "      461.0       0.00      0.00      0.00         0\n",
      "      463.0       0.25      0.20      0.22         5\n",
      "      465.0       0.00      0.00      0.00         1\n",
      "      467.0       0.00      0.00      0.00         5\n",
      "      468.0       1.00      0.50      0.67         2\n",
      "      471.0       0.00      0.00      0.00         1\n",
      "      473.0       0.00      0.00      0.00         1\n",
      "      474.0       0.69      0.69      0.69        13\n",
      "      475.0       0.00      0.00      0.00         0\n",
      "      476.0       0.00      0.00      0.00         1\n",
      "      477.0       0.59      0.63      0.61        35\n",
      "      478.0       0.46      0.69      0.55        16\n",
      "      479.0       0.25      0.20      0.22         5\n",
      "      480.0       0.80      0.80      0.80        10\n",
      "      481.0       1.00      1.00      1.00         5\n",
      "      482.0       1.00      1.00      1.00         1\n",
      "      483.0       0.90      0.88      0.89        32\n",
      "      484.0       0.00      0.00      0.00         0\n",
      "      485.0       0.88      1.00      0.93        14\n",
      "      486.0       0.50      1.00      0.67         1\n",
      "      487.0       0.75      1.00      0.86         6\n",
      "      490.0       1.00      0.67      0.80         3\n",
      "      491.0       0.00      0.00      0.00         1\n",
      "      492.0       0.92      0.92      0.92        13\n",
      "      494.0       0.00      0.00      0.00        12\n",
      "      495.0       1.00      1.00      1.00         1\n",
      "      496.0       0.61      0.62      0.62        32\n",
      "      497.0       0.00      0.00      0.00         4\n",
      "      498.0       0.68      0.68      0.68        22\n",
      "      499.0       0.10      0.10      0.10        10\n",
      "      500.0       0.50      0.33      0.40         6\n",
      "      501.0       0.75      0.79      0.77        19\n",
      "      502.0       0.00      0.00      0.00         1\n",
      "      503.0       0.00      0.00      0.00         2\n",
      "      505.0       0.64      0.86      0.73        35\n",
      "      506.0       0.00      0.00      0.00         0\n",
      "      507.0       0.00      0.00      0.00         2\n",
      "      508.0       0.23      0.38      0.29         8\n",
      "      509.0       0.50      1.00      0.67         1\n",
      "      512.0       1.00      1.00      1.00         4\n",
      "      513.0       0.56      0.53      0.55       117\n",
      "      514.0       1.00      1.00      1.00         6\n",
      "      515.0       0.67      0.50      0.57         4\n",
      "      516.0       0.00      0.00      0.00         1\n",
      "      518.0       0.00      0.00      0.00         0\n",
      "      519.0       0.00      0.00      0.00         1\n",
      "      520.0       0.33      0.50      0.40         2\n",
      "      521.0       0.00      0.00      0.00         0\n",
      "      522.0       1.00      1.00      1.00         1\n",
      "      523.0       0.86      1.00      0.93        44\n",
      "      524.0       0.00      0.00      0.00         3\n",
      "      525.0       0.29      0.40      0.33         5\n",
      "      527.0       0.76      0.79      0.78        24\n",
      "      528.0       0.00      0.00      0.00         1\n",
      "      529.0       0.00      0.00      0.00         3\n",
      "      532.0       0.84      0.82      0.83       141\n",
      "      533.0       0.00      0.00      0.00         5\n",
      "      535.0       0.71      0.88      0.79        76\n",
      "      536.0       0.81      0.88      0.85        25\n",
      "      537.0       0.00      0.00      0.00         1\n",
      "      539.0       0.50      0.60      0.55         5\n",
      "      542.0       0.00      0.00      0.00         4\n",
      "      543.0       0.00      0.00      0.00         1\n",
      "      544.0       0.00      0.00      0.00         1\n",
      "      545.0       0.20      0.33      0.25         3\n",
      "      546.0       0.70      0.70      0.70        10\n",
      "      547.0       0.00      0.00      0.00         1\n",
      "      548.0       1.00      0.33      0.50         3\n",
      "      549.0       0.00      0.00      0.00         1\n",
      "      551.0       1.00      0.50      0.67         2\n",
      "      554.0       0.00      0.00      0.00         0\n",
      "      555.0       0.80      0.70      0.74        23\n",
      "      556.0       0.00      0.00      0.00         1\n",
      "      557.0       0.52      0.50      0.51        24\n",
      "      558.0       0.00      0.00      0.00         1\n",
      "      559.0       0.70      0.75      0.72       110\n",
      "      562.0       0.00      0.00      0.00         4\n",
      "      563.0       0.50      0.67      0.57         3\n",
      "      565.0       0.60      0.75      0.67         4\n",
      "      566.0       0.00      0.00      0.00         1\n",
      "      567.0       1.00      0.50      0.67         4\n",
      "      568.0       0.50      0.33      0.40         3\n",
      "      571.0       1.00      1.00      1.00         1\n",
      "      572.0       0.00      0.00      0.00         1\n",
      "      573.0       0.00      0.00      0.00         3\n",
      "      575.0       0.50      0.50      0.50         2\n",
      "      576.0       0.00      0.00      0.00         1\n",
      "      577.0       0.60      0.56      0.58        16\n",
      "      578.0       0.86      0.63      0.73        57\n",
      "      579.0       0.00      0.00      0.00         0\n",
      "      580.0       0.00      0.00      0.00         1\n",
      "      581.0       0.00      0.00      0.00         2\n",
      "      582.0       0.40      0.33      0.36         6\n",
      "      583.0       0.00      0.00      0.00         0\n",
      "      585.0       0.50      0.50      0.50         2\n",
      "      587.0       0.00      0.00      0.00         0\n",
      "      588.0       0.30      0.33      0.32         9\n",
      "      589.0       0.00      0.00      0.00         1\n",
      "      590.0       0.00      0.00      0.00         1\n",
      "      592.0       0.00      0.00      0.00         0\n",
      "      593.0       0.67      0.67      0.67         3\n",
      "      595.0       0.00      0.00      0.00         1\n",
      "      596.0       0.80      1.00      0.89         4\n",
      "      597.0       0.00      0.00      0.00         1\n",
      "      598.0       0.18      0.14      0.16        14\n",
      "      600.0       0.29      0.22      0.25        23\n",
      "      601.0       1.00      1.00      1.00         1\n",
      "      602.0       0.00      0.00      0.00         0\n",
      "      603.0       1.00      0.67      0.80         3\n",
      "      604.0       0.00      0.00      0.00         2\n",
      "      606.0       0.33      0.50      0.40         2\n",
      "      607.0       1.00      0.50      0.67         4\n",
      "      608.0       0.67      0.50      0.57         4\n",
      "      609.0       0.00      0.00      0.00         1\n",
      "      610.0       0.83      0.50      0.62        10\n",
      "      611.0       0.00      0.00      0.00         1\n",
      "      613.0       0.00      0.00      0.00         0\n",
      "      614.0       0.00      0.00      0.00         1\n",
      "      615.0       0.00      0.00      0.00         1\n",
      "      616.0       0.29      0.52      0.37        27\n",
      "      617.0       1.00      0.50      0.67         2\n",
      "      618.0       0.50      1.00      0.67         1\n",
      "      619.0       0.00      0.00      0.00         1\n",
      "      620.0       1.00      0.25      0.40         4\n",
      "      623.0       0.50      0.33      0.40         3\n",
      "      625.0       0.00      0.00      0.00         3\n",
      "      626.0       0.00      0.00      0.00         1\n",
      "      627.0       1.00      1.00      1.00         1\n",
      "      628.0       1.00      1.00      1.00         1\n",
      "      629.0       0.00      0.00      0.00         2\n",
      "      630.0       0.17      0.50      0.25         2\n",
      "      631.0       0.40      0.40      0.40         5\n",
      "      633.0       0.25      0.20      0.22         5\n",
      "      634.0       0.00      0.00      0.00         1\n",
      "      635.0       0.83      1.00      0.91         5\n",
      "      636.0       0.44      0.80      0.57         5\n",
      "      637.0       0.50      0.69      0.58        16\n",
      "      638.0       0.50      1.00      0.67         1\n",
      "      640.0       0.00      0.00      0.00         0\n",
      "      641.0       0.00      0.00      0.00         1\n",
      "      642.0       0.00      0.00      0.00         0\n",
      "      644.0       0.40      1.00      0.57         2\n",
      "      646.0       0.00      0.00      0.00         0\n",
      "      647.0       0.50      1.00      0.67         5\n",
      "      649.0       0.00      0.00      0.00         3\n",
      "      651.0       0.68      0.66      0.67       206\n",
      "      653.0       0.00      0.00      0.00         0\n",
      "      654.0       0.67      0.80      0.73         5\n",
      "      655.0       1.00      1.00      1.00         1\n",
      "      656.0       0.67      1.00      0.80         2\n",
      "      657.0       1.00      1.00      1.00         1\n",
      "      659.0       1.00      0.67      0.80         3\n",
      "      660.0       1.00      1.00      1.00         1\n",
      "      661.0       0.00      0.00      0.00         0\n",
      "      662.0       0.45      0.56      0.50         9\n",
      "      664.0       0.75      0.75      0.75         4\n",
      "      665.0       0.89      0.80      0.84        10\n",
      "      667.0       0.00      0.00      0.00         1\n",
      "      668.0       0.00      0.00      0.00         0\n",
      "      669.0       0.00      0.00      0.00         1\n",
      "      670.0       0.67      1.00      0.80         4\n",
      "      671.0       0.00      0.00      0.00         1\n",
      "      672.0       0.00      0.00      0.00         1\n",
      "      673.0       0.40      0.40      0.40         5\n",
      "      674.0       0.00      0.00      0.00         1\n",
      "      675.0       1.00      0.50      0.67         2\n",
      "      676.0       0.00      0.00      0.00         3\n",
      "      677.0       1.00      0.50      0.67         2\n",
      "      678.0       0.50      0.50      0.50         2\n",
      "      679.0       0.00      0.00      0.00         2\n",
      "      680.0       0.00      0.00      0.00         1\n",
      "      681.0       0.00      0.00      0.00         0\n",
      "      682.0       1.00      1.00      1.00         1\n",
      "      683.0       0.00      0.00      0.00         0\n",
      "      684.0       1.00      0.33      0.50         3\n",
      "      685.0       0.00      0.00      0.00         1\n",
      "      686.0       0.00      0.00      0.00         0\n",
      "      687.0       0.00      0.00      0.00         0\n",
      "      688.0       0.57      0.28      0.37        29\n",
      "      691.0       1.00      1.00      1.00         1\n",
      "      692.0       1.00      0.89      0.94        19\n",
      "      694.0       0.00      0.00      0.00         0\n",
      "      695.0       0.00      0.00      0.00         0\n",
      "      696.0       1.00      1.00      1.00         2\n",
      "      697.0       0.00      0.00      0.00         2\n",
      "      700.0       0.68      0.50      0.58        30\n",
      "      702.0       0.00      0.00      0.00         0\n",
      "      703.0       0.00      0.00      0.00         0\n",
      "      704.0       1.00      0.50      0.67         2\n",
      "      705.0       0.00      0.00      0.00         1\n",
      "      706.0       0.00      0.00      0.00         0\n",
      "      708.0       0.91      1.00      0.95        10\n",
      "      709.0       0.00      0.00      0.00         2\n",
      "      710.0       0.50      0.11      0.18         9\n",
      "      711.0       0.91      0.94      0.93       456\n",
      "      712.0       0.00      0.00      0.00         1\n",
      "      713.0       0.72      0.77      0.74        69\n",
      "      714.0       0.24      0.25      0.24        16\n",
      "      716.0       0.00      0.00      0.00         2\n",
      "      717.0       1.00      1.00      1.00         1\n",
      "      718.0       0.00      0.00      0.00         2\n",
      "      719.0       1.00      1.00      1.00         1\n",
      "      720.0       1.00      1.00      1.00         1\n",
      "      721.0       0.00      0.00      0.00         0\n",
      "      723.0       1.00      1.00      1.00         1\n",
      "      724.0       1.00      0.67      0.80         6\n",
      "      725.0       0.00      0.00      0.00         1\n",
      "      726.0       0.00      0.00      0.00         1\n",
      "      727.0       0.00      0.00      0.00         2\n",
      "      728.0       0.00      0.00      0.00         1\n",
      "      729.0       1.00      0.50      0.67         6\n",
      "      732.0       0.62      0.42      0.50        12\n",
      "      733.0       0.00      0.00      0.00         0\n",
      "      735.0       0.00      0.00      0.00         0\n",
      "      736.0       0.50      1.00      0.67         1\n",
      "      737.0       0.00      0.00      0.00         4\n",
      "      738.0       0.50      1.00      0.67         2\n",
      "      740.0       0.00      0.00      0.00         1\n",
      "      741.0       0.00      0.00      0.00         2\n",
      "      742.0       1.00      1.00      1.00         1\n",
      "      744.0       0.00      0.00      0.00         1\n",
      "      745.0       0.00      0.00      0.00         1\n",
      "      746.0       0.50      1.00      0.67         1\n",
      "      747.0       0.00      0.00      0.00         1\n",
      "      748.0       1.00      1.00      1.00         1\n",
      "      749.0       0.00      0.00      0.00         0\n",
      "      750.0       0.97      0.95      0.96       143\n",
      "      751.0       0.50      0.33      0.40         3\n",
      "      752.0       0.00      0.00      0.00         1\n",
      "      753.0       0.57      0.50      0.53        26\n",
      "      755.0       1.00      0.45      0.62        11\n",
      "      756.0       0.00      0.00      0.00         0\n",
      "      757.0       0.00      0.00      0.00         0\n",
      "      758.0       0.83      0.79      0.81        43\n",
      "      760.0       0.20      0.17      0.18         6\n",
      "      761.0       0.00      0.00      0.00         1\n",
      "      762.0       0.00      0.00      0.00         5\n",
      "      763.0       0.50      0.50      0.50         2\n",
      "      764.0       0.82      0.53      0.64        17\n",
      "      765.0       0.50      0.50      0.50         2\n",
      "      766.0       1.00      1.00      1.00         1\n",
      "      768.0       0.00      0.00      0.00         1\n",
      "      769.0       0.00      0.00      0.00         2\n",
      "      771.0       0.50      0.50      0.50         4\n",
      "      772.0       1.00      0.50      0.67         4\n",
      "      773.0       1.00      1.00      1.00         1\n",
      "      774.0       0.50      0.40      0.44         5\n",
      "      775.0       0.00      0.00      0.00         0\n",
      "      776.0       0.50      1.00      0.67         1\n",
      "      777.0       1.00      0.50      0.67         2\n",
      "      778.0       0.53      0.37      0.44        65\n",
      "      779.0       1.00      1.00      1.00         3\n",
      "      780.0       1.00      1.00      1.00         1\n",
      "      781.0       1.00      1.00      1.00         8\n",
      "      782.0       0.00      0.00      0.00         2\n",
      "      783.0       0.00      0.00      0.00         1\n",
      "      784.0       0.00      0.00      0.00         1\n",
      "      785.0       0.67      0.75      0.71         8\n",
      "      786.0       0.25      0.50      0.33         2\n",
      "      787.0       0.67      0.67      0.67         3\n",
      "      789.0       1.00      0.50      0.67         2\n",
      "      790.0       0.00      0.00      0.00         1\n",
      "      791.0       1.00      1.00      1.00         5\n",
      "      792.0       0.27      0.26      0.27        23\n",
      "      793.0       0.50      0.25      0.33        28\n",
      "      794.0       1.00      0.50      0.67         2\n",
      "      795.0       0.00      0.00      0.00         0\n",
      "      796.0       1.00      1.00      1.00         3\n",
      "      797.0       1.00      0.25      0.40         4\n",
      "      798.0       0.50      1.00      0.67         1\n",
      "      799.0       1.00      1.00      1.00         1\n",
      "      800.0       0.00      0.00      0.00         0\n",
      "      801.0       0.69      0.48      0.56        23\n",
      "      802.0       1.00      1.00      1.00         1\n",
      "      804.0       0.00      0.00      0.00         1\n",
      "      805.0       0.00      0.00      0.00         2\n",
      "      806.0       0.00      0.00      0.00         1\n",
      "      807.0       0.50      0.50      0.50         6\n",
      "      808.0       0.50      0.83      0.62         6\n",
      "      809.0       1.00      1.00      1.00         1\n",
      "      811.0       0.00      0.00      0.00         2\n",
      "      812.0       0.00      0.00      0.00         1\n",
      "      814.0       0.33      0.33      0.33         3\n",
      "      815.0       0.00      0.00      0.00         1\n",
      "      816.0       1.00      0.67      0.80         3\n",
      "      817.0       0.67      0.29      0.40        14\n",
      "      819.0       0.00      0.00      0.00         1\n",
      "      820.0       1.00      1.00      1.00         1\n",
      "      821.0       1.00      1.00      1.00         1\n",
      "      823.0       0.00      0.00      0.00         1\n",
      "      825.0       0.20      0.50      0.29         2\n",
      "      826.0       0.50      1.00      0.67         3\n",
      "      827.0       1.00      1.00      1.00         1\n",
      "      828.0       1.00      1.00      1.00         2\n",
      "      829.0       0.00      0.00      0.00         2\n",
      "      830.0       0.00      0.00      0.00         1\n",
      "      831.0       0.00      0.00      0.00         0\n",
      "      832.0       0.00      0.00      0.00         1\n",
      "\n",
      "avg / total       0.71      0.70      0.70      5557\n",
      "\n"
     ]
    }
   ],
   "source": [
    "cart = DecisionTreeClassifier()\n",
    "cart.fit(X_train_SVD, Y_train_SVD)\n",
    "predictions = cart.predict(X_validation)\n",
    "print(accuracy_score(Y_validation, predictions))\n",
    "print(confusion_matrix(Y_validation, predictions))\n",
    "print(classification_report(Y_validation, predictions))"
   ]
  },
  {
   "cell_type": "code",
   "execution_count": null,
   "metadata": {
    "collapsed": true
   },
   "outputs": [],
   "source": [
    "# number = preprocessing.LabelEncoder()\n",
    "# number.inverse_transform()"
   ]
  }
 ],
 "metadata": {
  "kernelspec": {
   "display_name": "Python 2",
   "language": "python",
   "name": "python2"
  },
  "language_info": {
   "codemirror_mode": {
    "name": "ipython",
    "version": 2
   },
   "file_extension": ".py",
   "mimetype": "text/x-python",
   "name": "python",
   "nbconvert_exporter": "python",
   "pygments_lexer": "ipython2",
   "version": "2.7.13"
  }
 },
 "nbformat": 4,
 "nbformat_minor": 2
}
