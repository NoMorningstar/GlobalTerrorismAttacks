{
 "cells": [
  {
   "cell_type": "markdown",
   "metadata": {},
   "source": [
    "# Predicting Group Responsible - Initial Model Evaluation"
   ]
  },
  {
   "cell_type": "markdown",
   "metadata": {},
   "source": [
    "**Table of Contents**\n",
    "<div id=\"toc\"></div>"
   ]
  },
  {
   "cell_type": "markdown",
   "metadata": {},
   "source": [
    "Exploration of models without feature extraction"
   ]
  },
  {
   "cell_type": "markdown",
   "metadata": {},
   "source": [
    "## Preparation"
   ]
  },
  {
   "cell_type": "code",
   "execution_count": 8,
   "metadata": {
    "collapsed": true
   },
   "outputs": [],
   "source": [
    "%matplotlib inline\n",
    "\n",
    "import ConfigParser\n",
    "config = ConfigParser.ConfigParser()\n",
    "config.read('config.ini')\n",
    "\n",
    "import pandas as pd\n",
    "import time\n",
    "from pandas.plotting import scatter_matrix\n",
    "import matplotlib.pyplot as plt\n",
    "from sklearn import model_selection\n",
    "from sklearn.metrics import classification_report\n",
    "from sklearn.metrics import confusion_matrix\n",
    "from sklearn.metrics import accuracy_score\n",
    "from sklearn.linear_model import LogisticRegression\n",
    "from sklearn.tree import DecisionTreeClassifier\n",
    "from sklearn.ensemble import RandomForestClassifier\n",
    "from sklearn.neighbors import KNeighborsClassifier\n",
    "from sklearn.discriminant_analysis import LinearDiscriminantAnalysis\n",
    "from sklearn.naive_bayes import GaussianNB\n",
    "from sklearn.svm import SVC"
   ]
  },
  {
   "cell_type": "code",
   "execution_count": 9,
   "metadata": {},
   "outputs": [
    {
     "data": {
      "text/html": [
       "<div>\n",
       "<style>\n",
       "    .dataframe thead tr:only-child th {\n",
       "        text-align: right;\n",
       "    }\n",
       "\n",
       "    .dataframe thead th {\n",
       "        text-align: left;\n",
       "    }\n",
       "\n",
       "    .dataframe tbody tr th {\n",
       "        vertical-align: top;\n",
       "    }\n",
       "</style>\n",
       "<table border=\"1\" class=\"dataframe\">\n",
       "  <thead>\n",
       "    <tr style=\"text-align: right;\">\n",
       "      <th></th>\n",
       "      <th>gname</th>\n",
       "      <th>iyear</th>\n",
       "      <th>country</th>\n",
       "      <th>attacktype1</th>\n",
       "      <th>weaptype1</th>\n",
       "      <th>targtype1</th>\n",
       "    </tr>\n",
       "  </thead>\n",
       "  <tbody>\n",
       "    <tr>\n",
       "      <th>88652</th>\n",
       "      <td>Taliban</td>\n",
       "      <td>2016</td>\n",
       "      <td>4</td>\n",
       "      <td>9</td>\n",
       "      <td>13</td>\n",
       "      <td>4</td>\n",
       "    </tr>\n",
       "    <tr>\n",
       "      <th>88653</th>\n",
       "      <td>Taliban</td>\n",
       "      <td>2016</td>\n",
       "      <td>4</td>\n",
       "      <td>3</td>\n",
       "      <td>6</td>\n",
       "      <td>17</td>\n",
       "    </tr>\n",
       "    <tr>\n",
       "      <th>88654</th>\n",
       "      <td>Boko Haram</td>\n",
       "      <td>2016</td>\n",
       "      <td>146</td>\n",
       "      <td>9</td>\n",
       "      <td>13</td>\n",
       "      <td>4</td>\n",
       "    </tr>\n",
       "    <tr>\n",
       "      <th>88655</th>\n",
       "      <td>Lord's Resistance Army (LRA)</td>\n",
       "      <td>2016</td>\n",
       "      <td>229</td>\n",
       "      <td>6</td>\n",
       "      <td>13</td>\n",
       "      <td>14</td>\n",
       "    </tr>\n",
       "    <tr>\n",
       "      <th>88656</th>\n",
       "      <td>Sudan Liberation Movement</td>\n",
       "      <td>2016</td>\n",
       "      <td>195</td>\n",
       "      <td>2</td>\n",
       "      <td>5</td>\n",
       "      <td>14</td>\n",
       "    </tr>\n",
       "  </tbody>\n",
       "</table>\n",
       "</div>"
      ],
      "text/plain": [
       "                              gname  iyear  country  attacktype1  weaptype1  \\\n",
       "88652                       Taliban   2016        4            9         13   \n",
       "88653                       Taliban   2016        4            3          6   \n",
       "88654                    Boko Haram   2016      146            9         13   \n",
       "88655  Lord's Resistance Army (LRA)   2016      229            6         13   \n",
       "88656     Sudan Liberation Movement   2016      195            2          5   \n",
       "\n",
       "       targtype1  \n",
       "88652          4  \n",
       "88653         17  \n",
       "88654          4  \n",
       "88655         14  \n",
       "88656         14  "
      ]
     },
     "metadata": {},
     "output_type": "display_data"
    },
    {
     "data": {
      "text/plain": [
       "(88657, 6)"
      ]
     },
     "execution_count": 9,
     "metadata": {},
     "output_type": "execute_result"
    }
   ],
   "source": [
    "from IPython.display import display\n",
    "\n",
    "if config.getboolean('Booleans', 'UseLessFeatures') == True:\n",
    "    csvFileName = 'gtd_processed_5features.csv'\n",
    "else:\n",
    "    csvFileName = 'gtd_processed_11features.csv'\n",
    "    \n",
    "gtd = pd.read_csv(csvFileName, encoding='latin1', low_memory=False)\n",
    "display(gtd.tail(5))\n",
    "gtd.shape"
   ]
  },
  {
   "cell_type": "markdown",
   "metadata": {},
   "source": [
    "Split-out validation dataset"
   ]
  },
  {
   "cell_type": "markdown",
   "metadata": {},
   "source": [
    "## Data Partitioning"
   ]
  },
  {
   "cell_type": "code",
   "execution_count": 10,
   "metadata": {
    "collapsed": true
   },
   "outputs": [],
   "source": [
    "array = gtd.values\n",
    "seed = 188\n",
    "X = array[:,1:]\n",
    "Y = array[:,0]\n",
    "validation_size = 0.10\n",
    "X_train, X_validation, Y_train, Y_validation = model_selection.train_test_split(X, Y, test_size=validation_size, random_state=seed)"
   ]
  },
  {
   "cell_type": "markdown",
   "metadata": {},
   "source": [
    "## Model Building"
   ]
  },
  {
   "cell_type": "code",
   "execution_count": null,
   "metadata": {},
   "outputs": [
    {
     "name": "stdout",
     "output_type": "stream",
     "text": [
      "KNN: 0.686920% (0.006508) - 16.632 seconds\n",
      "CART: 0.714717% (0.006382) - 12.422 seconds\n",
      "GNB: 0.125779% (0.011488) - 62.726 seconds\n"
     ]
    },
    {
     "name": "stderr",
     "output_type": "stream",
     "text": [
      "/Users/spe_eddy_gonzalez/anaconda/lib/python2.7/site-packages/sklearn/discriminant_analysis.py:455: UserWarning: The priors do not sum to 1. Renormalizing\n",
      "  UserWarning)\n"
     ]
    },
    {
     "name": "stdout",
     "output_type": "stream",
     "text": [
      "LDA: 0.297001% (0.007324) - 86.24 seconds\n",
      "RF: 0.706546% (0.004620) - 92.779 seconds\n"
     ]
    }
   ],
   "source": [
    "models = []\n",
    "\n",
    "models.append(('KNN', KNeighborsClassifier()))\n",
    "models.append(('CART', DecisionTreeClassifier()))\n",
    "\n",
    "if config.getboolean('Booleans', 'RunPoorPerformingClassifiers') == True:\n",
    "    models.append(('GNB', GaussianNB())) # GNB: 0.353792% (0.002758) - 9.339 seconds\n",
    "    models.append(('LDA', LinearDiscriminantAnalysis())) #LDA: 0.285051% (0.004282) - 5.299 seconds\n",
    "\n",
    "if config.getboolean('Booleans', 'RunRandomForest') == True:\n",
    "    models.append(('RF', RandomForestClassifier()))\n",
    "\n",
    "if config.getboolean('Booleans', 'RunSVM') == True:\n",
    "    models.append(('SVM', SVC(probability=True))) #Too slow for this many samples - O(N^3)\n",
    "    \n",
    "results = []\n",
    "names = []\n",
    "scoring = 'accuracy'\n",
    " \n",
    "for name, model in models:\n",
    "    start_time = time.time()\n",
    "    kfold = model_selection.KFold(n_splits=10, random_state=seed) #ensure same seed so models are directly comparable\n",
    "    cv_results = model_selection.cross_val_score(model, X_train, Y_train, cv=kfold, scoring=scoring)\n",
    "    results.append(cv_results)\n",
    "    names.append(name)\n",
    "    msg = \"%s: %f%% (%f) - %s seconds\" % (name, cv_results.mean(), cv_results.std(), round((time.time() - start_time),3))\n",
    "    print(msg)"
   ]
  },
  {
   "cell_type": "markdown",
   "metadata": {},
   "source": [
    "### Results: 11 Features, .Tail(10000)\n",
    "LDA: 0.426000% (0.014946) - 0.313 seconds\n",
    "\n",
    "KNN: 0.726875% (0.012071) - 0.312 seconds\n",
    "\n",
    "CART: 0.762125% (0.011389) - 0.371 seconds\n",
    "\n",
    "RF: 0.716222% (0.016347) - 3.136 seconds\n",
    "\n",
    "GNB: 0.102750% (0.009401) - 0.763 seconds\n",
    "\n",
    "SVM: 0.723875% (0.014879) - 342.715 seconds"
   ]
  },
  {
   "cell_type": "markdown",
   "metadata": {},
   "source": [
    "### Results: 11 Features, All Rows\n",
    "LDA: 0.302968% (0.005750) - 6.834 seconds\n",
    "\n",
    "KNN: 0.657032% (0.005536) - 8.244 seconds\n",
    "\n",
    "CART: 0.706761% (0.004214) - 12.792 seconds\n",
    "\n",
    "GNB: 0.064843% (0.003521) - 17.24 seconds\n",
    "\n",
    "RF: 0.684877% (0.004442) - 112.637 seconds"
   ]
  },
  {
   "cell_type": "markdown",
   "metadata": {},
   "source": [
    "### Results: 5 Features, All Rows\n",
    "\n",
    "LDA: 0.297001% (0.007324) - 86.24 seconds\n",
    "\n",
    "KNN: 0.686920% (0.006508) - 16.632 seconds\n",
    "\n",
    "CART: 0.714717% (0.006382) - 12.422 seconds\n",
    "\n",
    "GNB: 0.125779% (0.011488) - 62.726 seconds\n",
    "\n",
    "RF: 0.706546% (0.004620) - 92.779 seconds"
   ]
  },
  {
   "cell_type": "markdown",
   "metadata": {},
   "source": [
    "## Compare Algorithms"
   ]
  },
  {
   "cell_type": "code",
   "execution_count": null,
   "metadata": {},
   "outputs": [],
   "source": [
    "fig = plt.figure()\n",
    "fig.suptitle('Algorithm Comparison')\n",
    "ax = fig.add_subplot(111)\n",
    "plt.boxplot(results)\n",
    "ax.set_xticklabels(names)\n",
    "plt.show()"
   ]
  },
  {
   "cell_type": "markdown",
   "metadata": {},
   "source": [
    "## Make predictions on validation dataset"
   ]
  },
  {
   "cell_type": "code",
   "execution_count": null,
   "metadata": {},
   "outputs": [],
   "source": [
    "cart = DecisionTreeClassifier()\n",
    "cart.fit(X_train, Y_train)\n",
    "predictions = cart.predict(X_validation)\n",
    "print(accuracy_score(Y_validation, predictions))\n",
    "print(confusion_matrix(Y_validation, predictions))\n",
    "print(classification_report(Y_validation, predictions)) #TODO: sort out formatting of table - trim name column?"
   ]
  },
  {
   "cell_type": "markdown",
   "metadata": {},
   "source": [
    "## Predicting Live Data"
   ]
  },
  {
   "cell_type": "markdown",
   "metadata": {},
   "source": [
    "Change values to see predicted Terrorist group: (for more info on values, see http://www.start.umd.edu/gtd/downloads/Codebook.pdf)"
   ]
  },
  {
   "cell_type": "code",
   "execution_count": null,
   "metadata": {},
   "outputs": [],
   "source": [
    "iyear = 2016\n",
    "country = 153\n",
    "crit1 = 1\n",
    "crit2 = 1\n",
    "crit3 = 1\n",
    "attacktype1 = 1 \n",
    "targtype1 = 3\n",
    "targsubtype1 = 25\n",
    "weaptype1 = 6\n",
    "weapsubtype1 = 15\n",
    "ransom = 0\n",
    "#TODO: make these variables interactice controls\n",
    "\n",
    "X = [iyear, country, crit1, crit2, crit3, attacktype1, targtype1, targsubtype1, weaptype1, weapsubtype1, ransom], #TODO: reshape to 1D array\n",
    "\n",
    "print cart.predict(X)\n",
    "# print cart.predict_proba(X)"
   ]
  },
  {
   "cell_type": "code",
   "execution_count": null,
   "metadata": {
    "collapsed": true
   },
   "outputs": [],
   "source": []
  }
 ],
 "metadata": {
  "kernelspec": {
   "display_name": "Python 2",
   "language": "python",
   "name": "python2"
  },
  "language_info": {
   "codemirror_mode": {
    "name": "ipython",
    "version": 2
   },
   "file_extension": ".py",
   "mimetype": "text/x-python",
   "name": "python",
   "nbconvert_exporter": "python",
   "pygments_lexer": "ipython2",
   "version": "2.7.13"
  }
 },
 "nbformat": 4,
 "nbformat_minor": 2
}
